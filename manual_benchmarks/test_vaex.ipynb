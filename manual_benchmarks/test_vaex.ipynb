{
 "cells": [
  {
   "cell_type": "markdown",
   "id": "df0e97b1-ddda-4a75-8094-618a1e1db122",
   "metadata": {},
   "source": [
    "# Test Vaex\n",
    "\n",
    "To open RADIS databases"
   ]
  },
  {
   "cell_type": "code",
   "execution_count": 40,
   "id": "44a472e0-ce6e-4f48-a728-4abfd40077fa",
   "metadata": {},
   "outputs": [
    {
     "name": "stdout",
     "output_type": "stream",
     "text": [
      "2.0G CH4-06_HITEMP2020.h5\n"
     ]
    }
   ],
   "source": [
    "!ls -hs CH4-06_HITEMP2020.h5"
   ]
  },
  {
   "cell_type": "code",
   "execution_count": 4,
   "id": "6277ca7d-6eaa-45eb-989d-08fc5c55ab69",
   "metadata": {},
   "outputs": [
    {
     "name": "stderr",
     "output_type": "stream",
     "text": [
      "ERROR:MainThread:vaex:error opening 'CH4-06_HITEMP2020.h5'\n",
      "ERROR:vaex:error opening 'CH4-06_HITEMP2020.h5'\n"
     ]
    },
    {
     "ename": "OSError",
     "evalue": "Cannot open CH4-06_HITEMP2020.h5 nobody knows how to read it.",
     "output_type": "error",
     "traceback": [
      "\u001b[1;31m---------------------------------------------------------------------------\u001b[0m",
      "\u001b[1;31mOSError\u001b[0m                                   Traceback (most recent call last)",
      "\u001b[1;32m<ipython-input-4-c6e78b2e4b0f>\u001b[0m in \u001b[0;36m<module>\u001b[1;34m\u001b[0m\n\u001b[0;32m      1\u001b[0m \u001b[1;32mimport\u001b[0m \u001b[0mvaex\u001b[0m\u001b[1;33m\u001b[0m\u001b[1;33m\u001b[0m\u001b[0m\n\u001b[1;32m----> 2\u001b[1;33m \u001b[0mvaex\u001b[0m\u001b[1;33m.\u001b[0m\u001b[0mopen\u001b[0m\u001b[1;33m(\u001b[0m\u001b[1;34m\"CH4-06_HITEMP2020.h5\"\u001b[0m\u001b[1;33m)\u001b[0m\u001b[1;33m\u001b[0m\u001b[1;33m\u001b[0m\u001b[0m\n\u001b[0m",
      "\u001b[1;32m~\\anaconda3\\lib\\site-packages\\vaex\\__init__.py\u001b[0m in \u001b[0;36mopen\u001b[1;34m(path, convert, shuffle, fs_options, fs, *args, **kwargs)\u001b[0m\n\u001b[0;32m    221\u001b[0m                 \u001b[0mds\u001b[0m \u001b[1;33m=\u001b[0m \u001b[0mvaex\u001b[0m\u001b[1;33m.\u001b[0m\u001b[0mdataset\u001b[0m\u001b[1;33m.\u001b[0m\u001b[0mopen\u001b[0m\u001b[1;33m(\u001b[0m\u001b[0mpath_output\u001b[0m\u001b[1;33m,\u001b[0m \u001b[0mfs_options\u001b[0m\u001b[1;33m=\u001b[0m\u001b[0mfs_options\u001b[0m\u001b[1;33m,\u001b[0m \u001b[0mfs\u001b[0m\u001b[1;33m=\u001b[0m\u001b[0mfs\u001b[0m\u001b[1;33m,\u001b[0m \u001b[1;33m**\u001b[0m\u001b[0mkwargs\u001b[0m\u001b[1;33m)\u001b[0m\u001b[1;33m\u001b[0m\u001b[1;33m\u001b[0m\u001b[0m\n\u001b[0;32m    222\u001b[0m             \u001b[1;32melse\u001b[0m\u001b[1;33m:\u001b[0m\u001b[1;33m\u001b[0m\u001b[1;33m\u001b[0m\u001b[0m\n\u001b[1;32m--> 223\u001b[1;33m                 \u001b[0mds\u001b[0m \u001b[1;33m=\u001b[0m \u001b[0mvaex\u001b[0m\u001b[1;33m.\u001b[0m\u001b[0mdataset\u001b[0m\u001b[1;33m.\u001b[0m\u001b[0mopen\u001b[0m\u001b[1;33m(\u001b[0m\u001b[0mpath\u001b[0m\u001b[1;33m,\u001b[0m \u001b[0mfs_options\u001b[0m\u001b[1;33m=\u001b[0m\u001b[0mfs_options\u001b[0m\u001b[1;33m,\u001b[0m \u001b[0mfs\u001b[0m\u001b[1;33m=\u001b[0m\u001b[0mfs\u001b[0m\u001b[1;33m,\u001b[0m \u001b[1;33m**\u001b[0m\u001b[0mkwargs\u001b[0m\u001b[1;33m)\u001b[0m\u001b[1;33m\u001b[0m\u001b[1;33m\u001b[0m\u001b[0m\n\u001b[0m\u001b[0;32m    224\u001b[0m             \u001b[0mdf\u001b[0m \u001b[1;33m=\u001b[0m \u001b[0mvaex\u001b[0m\u001b[1;33m.\u001b[0m\u001b[0mfrom_dataset\u001b[0m\u001b[1;33m(\u001b[0m\u001b[0mds\u001b[0m\u001b[1;33m)\u001b[0m\u001b[1;33m\u001b[0m\u001b[1;33m\u001b[0m\u001b[0m\n\u001b[0;32m    225\u001b[0m             \u001b[1;32mif\u001b[0m \u001b[0mdf\u001b[0m \u001b[1;32mis\u001b[0m \u001b[1;32mNone\u001b[0m\u001b[1;33m:\u001b[0m\u001b[1;33m\u001b[0m\u001b[1;33m\u001b[0m\u001b[0m\n",
      "\u001b[1;32m~\\anaconda3\\lib\\site-packages\\vaex\\dataset.py\u001b[0m in \u001b[0;36mopen\u001b[1;34m(path, fs_options, fs, *args, **kwargs)\u001b[0m\n\u001b[0;32m     82\u001b[0m         \u001b[1;32mraise\u001b[0m \u001b[0mIOError\u001b[0m\u001b[1;33m(\u001b[0m\u001b[1;34mf'Cannot open {path}, failures: {failures}.'\u001b[0m\u001b[1;33m)\u001b[0m\u001b[1;33m\u001b[0m\u001b[1;33m\u001b[0m\u001b[0m\n\u001b[0;32m     83\u001b[0m     \u001b[1;32melse\u001b[0m\u001b[1;33m:\u001b[0m\u001b[1;33m\u001b[0m\u001b[1;33m\u001b[0m\u001b[0m\n\u001b[1;32m---> 84\u001b[1;33m         \u001b[1;32mraise\u001b[0m \u001b[0mIOError\u001b[0m\u001b[1;33m(\u001b[0m\u001b[1;34mf'Cannot open {path} nobody knows how to read it.'\u001b[0m\u001b[1;33m)\u001b[0m\u001b[1;33m\u001b[0m\u001b[1;33m\u001b[0m\u001b[0m\n\u001b[0m\u001b[0;32m     85\u001b[0m \u001b[1;33m\u001b[0m\u001b[0m\n\u001b[0;32m     86\u001b[0m \u001b[1;33m\u001b[0m\u001b[0m\n",
      "\u001b[1;31mOSError\u001b[0m: Cannot open CH4-06_HITEMP2020.h5 nobody knows how to read it."
     ]
    }
   ],
   "source": [
    "import vaex\n",
    "vaex.open(\"~/.radisdb/CH4-06_HITEMP2020.h5\")"
   ]
  },
  {
   "cell_type": "markdown",
   "id": "3e9d20cb-18e0-41cc-994a-dc5bd9402c73",
   "metadata": {},
   "source": [
    "First surprise : .h5 file generated by Radis through Pandas with pytables cannot be opened by Vaex.\n",
    "This is because [Pandas's to_hdf returns a row-based HDF5 format while Vaex's uses column based HDF5](https://vaex.readthedocs.io/en/meta-v2.6.1/faq.html#Why-can't-I-open-a-HDF5-file-that-was-exported-from-a-pandas-DataFrame-via-the-.to_hdf?). \n",
    "\n",
    "Let's regenerate a Vaex-friendly HDF5  :"
   ]
  },
  {
   "cell_type": "code",
   "execution_count": 5,
   "id": "4a270595-8bc9-40d3-a044-528409555973",
   "metadata": {},
   "outputs": [
    {
     "name": "stderr",
     "output_type": "stream",
     "text": [
      "WARNING: leap-second auto-update failed due to the following exception: AttributeError(\"module 'astropy' has no attribute 'config'\") [astropy.time.core]\n",
      "WARNING:astroquery:leap-second auto-update failed due to the following exception: AttributeError(\"module 'astropy' has no attribute 'config'\")\n"
     ]
    },
    {
     "name": "stdout",
     "output_type": "stream",
     "text": [
      "Using existing database HITEMP-CH4\n"
     ]
    },
    {
     "ename": "MemoryError",
     "evalue": "Unable to allocate 1.66 GiB for an array with shape (223162884,) and data type float64",
     "output_type": "error",
     "traceback": [
      "\u001b[1;31m---------------------------------------------------------------------------\u001b[0m",
      "\u001b[1;31mMemoryError\u001b[0m                               Traceback (most recent call last)",
      "\u001b[1;32m<ipython-input-5-f2509e12e579>\u001b[0m in \u001b[0;36m<module>\u001b[1;34m\u001b[0m\n\u001b[0;32m      1\u001b[0m \u001b[1;32mfrom\u001b[0m \u001b[0mradis\u001b[0m\u001b[1;33m.\u001b[0m\u001b[0mio\u001b[0m\u001b[1;33m.\u001b[0m\u001b[0mhitemp\u001b[0m \u001b[1;32mimport\u001b[0m \u001b[0mfetch_hitemp\u001b[0m\u001b[1;33m\u001b[0m\u001b[1;33m\u001b[0m\u001b[0m\n\u001b[1;32m----> 2\u001b[1;33m \u001b[0mdf\u001b[0m \u001b[1;33m=\u001b[0m \u001b[0mfetch_hitemp\u001b[0m\u001b[1;33m(\u001b[0m\u001b[1;34m\"CH4\"\u001b[0m\u001b[1;33m,\u001b[0m \u001b[0mverbose\u001b[0m\u001b[1;33m=\u001b[0m\u001b[1;36m2\u001b[0m\u001b[1;33m)\u001b[0m\u001b[1;33m\u001b[0m\u001b[1;33m\u001b[0m\u001b[0m\n\u001b[0m",
      "\u001b[1;32md:\\github\\radis\\radis\\io\\hitemp.py\u001b[0m in \u001b[0;36mfetch_hitemp\u001b[1;34m(molecule, local_databases, databank_name, isotope, load_wavenum_min, load_wavenum_max, cache, verbose, chunksize, clean_cache_files, return_local_path)\u001b[0m\n\u001b[0;32m    261\u001b[0m         \u001b[1;32mif\u001b[0m \u001b[0mverbose\u001b[0m\u001b[1;33m:\u001b[0m\u001b[1;33m\u001b[0m\u001b[1;33m\u001b[0m\u001b[0m\n\u001b[0;32m    262\u001b[0m             \u001b[0mprint\u001b[0m\u001b[1;33m(\u001b[0m\u001b[1;34mf\"Using existing database {databank_name}\"\u001b[0m\u001b[1;33m)\u001b[0m\u001b[1;33m\u001b[0m\u001b[1;33m\u001b[0m\u001b[0m\n\u001b[1;32m--> 263\u001b[1;33m         df = hdf2df(\n\u001b[0m\u001b[0;32m    264\u001b[0m             \u001b[0mlocal_file\u001b[0m\u001b[1;33m,\u001b[0m\u001b[1;33m\u001b[0m\u001b[1;33m\u001b[0m\u001b[0m\n\u001b[0;32m    265\u001b[0m             \u001b[0misotope\u001b[0m\u001b[1;33m=\u001b[0m\u001b[0misotope\u001b[0m\u001b[1;33m,\u001b[0m\u001b[1;33m\u001b[0m\u001b[1;33m\u001b[0m\u001b[0m\n",
      "\u001b[1;32md:\\github\\radis\\radis\\io\\hdf5.py\u001b[0m in \u001b[0;36mhdf2df\u001b[1;34m(fname, columns, isotope, load_wavenum_min, load_wavenum_max, verbose, store_kwargs)\u001b[0m\n\u001b[0;32m     85\u001b[0m     \u001b[0mt0\u001b[0m \u001b[1;33m=\u001b[0m \u001b[0mtime\u001b[0m\u001b[1;33m(\u001b[0m\u001b[1;33m)\u001b[0m\u001b[1;33m\u001b[0m\u001b[1;33m\u001b[0m\u001b[0m\n\u001b[0;32m     86\u001b[0m     \u001b[1;32mtry\u001b[0m\u001b[1;33m:\u001b[0m\u001b[1;33m\u001b[0m\u001b[1;33m\u001b[0m\u001b[0m\n\u001b[1;32m---> 87\u001b[1;33m         \u001b[0mdf\u001b[0m \u001b[1;33m=\u001b[0m \u001b[0mpd\u001b[0m\u001b[1;33m.\u001b[0m\u001b[0mread_hdf\u001b[0m\u001b[1;33m(\u001b[0m\u001b[0mfname\u001b[0m\u001b[1;33m,\u001b[0m \u001b[0mcolumns\u001b[0m\u001b[1;33m=\u001b[0m\u001b[0mcolumns\u001b[0m\u001b[1;33m,\u001b[0m \u001b[0mwhere\u001b[0m\u001b[1;33m=\u001b[0m\u001b[0mwhere\u001b[0m\u001b[1;33m,\u001b[0m \u001b[1;33m**\u001b[0m\u001b[0mstore_kwargs\u001b[0m\u001b[1;33m)\u001b[0m\u001b[1;33m\u001b[0m\u001b[1;33m\u001b[0m\u001b[0m\n\u001b[0m\u001b[0;32m     88\u001b[0m     \u001b[1;32mexcept\u001b[0m \u001b[0mTypeError\u001b[0m \u001b[1;32mas\u001b[0m \u001b[0merr\u001b[0m\u001b[1;33m:\u001b[0m\u001b[1;33m\u001b[0m\u001b[1;33m\u001b[0m\u001b[0m\n\u001b[0;32m     89\u001b[0m         \u001b[1;32mif\u001b[0m \u001b[1;34m\"reading from a Fixed format store\"\u001b[0m \u001b[1;32min\u001b[0m \u001b[0mstr\u001b[0m\u001b[1;33m(\u001b[0m\u001b[0merr\u001b[0m\u001b[1;33m)\u001b[0m\u001b[1;33m:\u001b[0m\u001b[1;33m\u001b[0m\u001b[1;33m\u001b[0m\u001b[0m\n",
      "\u001b[1;32m~\\anaconda3\\lib\\site-packages\\pandas\\io\\pytables.py\u001b[0m in \u001b[0;36mread_hdf\u001b[1;34m(path_or_buf, key, mode, errors, where, start, stop, columns, iterator, chunksize, **kwargs)\u001b[0m\n\u001b[0;32m    423\u001b[0m                     )\n\u001b[0;32m    424\u001b[0m             \u001b[0mkey\u001b[0m \u001b[1;33m=\u001b[0m \u001b[0mcandidate_only_group\u001b[0m\u001b[1;33m.\u001b[0m\u001b[0m_v_pathname\u001b[0m\u001b[1;33m\u001b[0m\u001b[1;33m\u001b[0m\u001b[0m\n\u001b[1;32m--> 425\u001b[1;33m         return store.select(\n\u001b[0m\u001b[0;32m    426\u001b[0m             \u001b[0mkey\u001b[0m\u001b[1;33m,\u001b[0m\u001b[1;33m\u001b[0m\u001b[1;33m\u001b[0m\u001b[0m\n\u001b[0;32m    427\u001b[0m             \u001b[0mwhere\u001b[0m\u001b[1;33m=\u001b[0m\u001b[0mwhere\u001b[0m\u001b[1;33m,\u001b[0m\u001b[1;33m\u001b[0m\u001b[1;33m\u001b[0m\u001b[0m\n",
      "\u001b[1;32m~\\anaconda3\\lib\\site-packages\\pandas\\io\\pytables.py\u001b[0m in \u001b[0;36mselect\u001b[1;34m(self, key, where, start, stop, columns, iterator, chunksize, auto_close)\u001b[0m\n\u001b[0;32m    843\u001b[0m         )\n\u001b[0;32m    844\u001b[0m \u001b[1;33m\u001b[0m\u001b[0m\n\u001b[1;32m--> 845\u001b[1;33m         \u001b[1;32mreturn\u001b[0m \u001b[0mit\u001b[0m\u001b[1;33m.\u001b[0m\u001b[0mget_result\u001b[0m\u001b[1;33m(\u001b[0m\u001b[1;33m)\u001b[0m\u001b[1;33m\u001b[0m\u001b[1;33m\u001b[0m\u001b[0m\n\u001b[0m\u001b[0;32m    846\u001b[0m \u001b[1;33m\u001b[0m\u001b[0m\n\u001b[0;32m    847\u001b[0m     def select_as_coordinates(\n",
      "\u001b[1;32m~\\anaconda3\\lib\\site-packages\\pandas\\io\\pytables.py\u001b[0m in \u001b[0;36mget_result\u001b[1;34m(self, coordinates)\u001b[0m\n\u001b[0;32m   1911\u001b[0m \u001b[1;33m\u001b[0m\u001b[0m\n\u001b[0;32m   1912\u001b[0m         \u001b[1;31m# directly return the result\u001b[0m\u001b[1;33m\u001b[0m\u001b[1;33m\u001b[0m\u001b[1;33m\u001b[0m\u001b[0m\n\u001b[1;32m-> 1913\u001b[1;33m         \u001b[0mresults\u001b[0m \u001b[1;33m=\u001b[0m \u001b[0mself\u001b[0m\u001b[1;33m.\u001b[0m\u001b[0mfunc\u001b[0m\u001b[1;33m(\u001b[0m\u001b[0mself\u001b[0m\u001b[1;33m.\u001b[0m\u001b[0mstart\u001b[0m\u001b[1;33m,\u001b[0m \u001b[0mself\u001b[0m\u001b[1;33m.\u001b[0m\u001b[0mstop\u001b[0m\u001b[1;33m,\u001b[0m \u001b[0mwhere\u001b[0m\u001b[1;33m)\u001b[0m\u001b[1;33m\u001b[0m\u001b[1;33m\u001b[0m\u001b[0m\n\u001b[0m\u001b[0;32m   1914\u001b[0m         \u001b[0mself\u001b[0m\u001b[1;33m.\u001b[0m\u001b[0mclose\u001b[0m\u001b[1;33m(\u001b[0m\u001b[1;33m)\u001b[0m\u001b[1;33m\u001b[0m\u001b[1;33m\u001b[0m\u001b[0m\n\u001b[0;32m   1915\u001b[0m         \u001b[1;32mreturn\u001b[0m \u001b[0mresults\u001b[0m\u001b[1;33m\u001b[0m\u001b[1;33m\u001b[0m\u001b[0m\n",
      "\u001b[1;32m~\\anaconda3\\lib\\site-packages\\pandas\\io\\pytables.py\u001b[0m in \u001b[0;36mfunc\u001b[1;34m(_start, _stop, _where)\u001b[0m\n\u001b[0;32m    827\u001b[0m         \u001b[1;31m# function to call on iteration\u001b[0m\u001b[1;33m\u001b[0m\u001b[1;33m\u001b[0m\u001b[1;33m\u001b[0m\u001b[0m\n\u001b[0;32m    828\u001b[0m         \u001b[1;32mdef\u001b[0m \u001b[0mfunc\u001b[0m\u001b[1;33m(\u001b[0m\u001b[0m_start\u001b[0m\u001b[1;33m,\u001b[0m \u001b[0m_stop\u001b[0m\u001b[1;33m,\u001b[0m \u001b[0m_where\u001b[0m\u001b[1;33m)\u001b[0m\u001b[1;33m:\u001b[0m\u001b[1;33m\u001b[0m\u001b[1;33m\u001b[0m\u001b[0m\n\u001b[1;32m--> 829\u001b[1;33m             \u001b[1;32mreturn\u001b[0m \u001b[0ms\u001b[0m\u001b[1;33m.\u001b[0m\u001b[0mread\u001b[0m\u001b[1;33m(\u001b[0m\u001b[0mstart\u001b[0m\u001b[1;33m=\u001b[0m\u001b[0m_start\u001b[0m\u001b[1;33m,\u001b[0m \u001b[0mstop\u001b[0m\u001b[1;33m=\u001b[0m\u001b[0m_stop\u001b[0m\u001b[1;33m,\u001b[0m \u001b[0mwhere\u001b[0m\u001b[1;33m=\u001b[0m\u001b[0m_where\u001b[0m\u001b[1;33m,\u001b[0m \u001b[0mcolumns\u001b[0m\u001b[1;33m=\u001b[0m\u001b[0mcolumns\u001b[0m\u001b[1;33m)\u001b[0m\u001b[1;33m\u001b[0m\u001b[1;33m\u001b[0m\u001b[0m\n\u001b[0m\u001b[0;32m    830\u001b[0m \u001b[1;33m\u001b[0m\u001b[0m\n\u001b[0;32m    831\u001b[0m         \u001b[1;31m# create the iterator\u001b[0m\u001b[1;33m\u001b[0m\u001b[1;33m\u001b[0m\u001b[1;33m\u001b[0m\u001b[0m\n",
      "\u001b[1;32m~\\anaconda3\\lib\\site-packages\\pandas\\io\\pytables.py\u001b[0m in \u001b[0;36mread\u001b[1;34m(self, where, columns, start, stop)\u001b[0m\n\u001b[0;32m   4456\u001b[0m             \u001b[1;32mreturn\u001b[0m \u001b[1;32mNone\u001b[0m\u001b[1;33m\u001b[0m\u001b[1;33m\u001b[0m\u001b[0m\n\u001b[0;32m   4457\u001b[0m \u001b[1;33m\u001b[0m\u001b[0m\n\u001b[1;32m-> 4458\u001b[1;33m         \u001b[0mresult\u001b[0m \u001b[1;33m=\u001b[0m \u001b[0mself\u001b[0m\u001b[1;33m.\u001b[0m\u001b[0m_read_axes\u001b[0m\u001b[1;33m(\u001b[0m\u001b[0mwhere\u001b[0m\u001b[1;33m=\u001b[0m\u001b[0mwhere\u001b[0m\u001b[1;33m,\u001b[0m \u001b[0mstart\u001b[0m\u001b[1;33m=\u001b[0m\u001b[0mstart\u001b[0m\u001b[1;33m,\u001b[0m \u001b[0mstop\u001b[0m\u001b[1;33m=\u001b[0m\u001b[0mstop\u001b[0m\u001b[1;33m)\u001b[0m\u001b[1;33m\u001b[0m\u001b[1;33m\u001b[0m\u001b[0m\n\u001b[0m\u001b[0;32m   4459\u001b[0m \u001b[1;33m\u001b[0m\u001b[0m\n\u001b[0;32m   4460\u001b[0m         info = (\n",
      "\u001b[1;32m~\\anaconda3\\lib\\site-packages\\pandas\\io\\pytables.py\u001b[0m in \u001b[0;36m_read_axes\u001b[1;34m(self, where, start, stop)\u001b[0m\n\u001b[0;32m   3666\u001b[0m         \u001b[1;32mfor\u001b[0m \u001b[0ma\u001b[0m \u001b[1;32min\u001b[0m \u001b[0mself\u001b[0m\u001b[1;33m.\u001b[0m\u001b[0maxes\u001b[0m\u001b[1;33m:\u001b[0m\u001b[1;33m\u001b[0m\u001b[1;33m\u001b[0m\u001b[0m\n\u001b[0;32m   3667\u001b[0m             \u001b[0ma\u001b[0m\u001b[1;33m.\u001b[0m\u001b[0mset_info\u001b[0m\u001b[1;33m(\u001b[0m\u001b[0mself\u001b[0m\u001b[1;33m.\u001b[0m\u001b[0minfo\u001b[0m\u001b[1;33m)\u001b[0m\u001b[1;33m\u001b[0m\u001b[1;33m\u001b[0m\u001b[0m\n\u001b[1;32m-> 3668\u001b[1;33m             res = a.convert(\n\u001b[0m\u001b[0;32m   3669\u001b[0m                 \u001b[0mvalues\u001b[0m\u001b[1;33m,\u001b[0m\u001b[1;33m\u001b[0m\u001b[1;33m\u001b[0m\u001b[0m\n\u001b[0;32m   3670\u001b[0m                 \u001b[0mnan_rep\u001b[0m\u001b[1;33m=\u001b[0m\u001b[0mself\u001b[0m\u001b[1;33m.\u001b[0m\u001b[0mnan_rep\u001b[0m\u001b[1;33m,\u001b[0m\u001b[1;33m\u001b[0m\u001b[1;33m\u001b[0m\u001b[0m\n",
      "\u001b[1;32m~\\anaconda3\\lib\\site-packages\\pandas\\io\\pytables.py\u001b[0m in \u001b[0;36mconvert\u001b[1;34m(self, values, nan_rep, encoding, errors)\u001b[0m\n\u001b[0;32m   2493\u001b[0m         \u001b[1;31m# convert nans / decode\u001b[0m\u001b[1;33m\u001b[0m\u001b[1;33m\u001b[0m\u001b[1;33m\u001b[0m\u001b[0m\n\u001b[0;32m   2494\u001b[0m         \u001b[1;32mif\u001b[0m \u001b[0m_ensure_decoded\u001b[0m\u001b[1;33m(\u001b[0m\u001b[0mkind\u001b[0m\u001b[1;33m)\u001b[0m \u001b[1;33m==\u001b[0m \u001b[1;34m\"string\"\u001b[0m\u001b[1;33m:\u001b[0m\u001b[1;33m\u001b[0m\u001b[1;33m\u001b[0m\u001b[0m\n\u001b[1;32m-> 2495\u001b[1;33m             converted = _unconvert_string_array(\n\u001b[0m\u001b[0;32m   2496\u001b[0m                 \u001b[0mconverted\u001b[0m\u001b[1;33m,\u001b[0m \u001b[0mnan_rep\u001b[0m\u001b[1;33m=\u001b[0m\u001b[0mnan_rep\u001b[0m\u001b[1;33m,\u001b[0m \u001b[0mencoding\u001b[0m\u001b[1;33m=\u001b[0m\u001b[0mencoding\u001b[0m\u001b[1;33m,\u001b[0m \u001b[0merrors\u001b[0m\u001b[1;33m=\u001b[0m\u001b[0merrors\u001b[0m\u001b[1;33m\u001b[0m\u001b[1;33m\u001b[0m\u001b[0m\n\u001b[0;32m   2497\u001b[0m             )\n",
      "\u001b[1;32m~\\anaconda3\\lib\\site-packages\\pandas\\io\\pytables.py\u001b[0m in \u001b[0;36m_unconvert_string_array\u001b[1;34m(data, nan_rep, encoding, errors)\u001b[0m\n\u001b[0;32m   4974\u001b[0m \u001b[1;33m\u001b[0m\u001b[0m\n\u001b[0;32m   4975\u001b[0m         \u001b[1;32mif\u001b[0m \u001b[0misinstance\u001b[0m\u001b[1;33m(\u001b[0m\u001b[0mdata\u001b[0m\u001b[1;33m[\u001b[0m\u001b[1;36m0\u001b[0m\u001b[1;33m]\u001b[0m\u001b[1;33m,\u001b[0m \u001b[0mbytes\u001b[0m\u001b[1;33m)\u001b[0m\u001b[1;33m:\u001b[0m\u001b[1;33m\u001b[0m\u001b[1;33m\u001b[0m\u001b[0m\n\u001b[1;32m-> 4976\u001b[1;33m             \u001b[0mdata\u001b[0m \u001b[1;33m=\u001b[0m \u001b[0mSeries\u001b[0m\u001b[1;33m(\u001b[0m\u001b[0mdata\u001b[0m\u001b[1;33m)\u001b[0m\u001b[1;33m.\u001b[0m\u001b[0mstr\u001b[0m\u001b[1;33m.\u001b[0m\u001b[0mdecode\u001b[0m\u001b[1;33m(\u001b[0m\u001b[0mencoding\u001b[0m\u001b[1;33m,\u001b[0m \u001b[0merrors\u001b[0m\u001b[1;33m=\u001b[0m\u001b[0merrors\u001b[0m\u001b[1;33m)\u001b[0m\u001b[1;33m.\u001b[0m\u001b[0m_values\u001b[0m\u001b[1;33m\u001b[0m\u001b[1;33m\u001b[0m\u001b[0m\n\u001b[0m\u001b[0;32m   4977\u001b[0m         \u001b[1;32melse\u001b[0m\u001b[1;33m:\u001b[0m\u001b[1;33m\u001b[0m\u001b[1;33m\u001b[0m\u001b[0m\n\u001b[0;32m   4978\u001b[0m             \u001b[0mdata\u001b[0m \u001b[1;33m=\u001b[0m \u001b[0mdata\u001b[0m\u001b[1;33m.\u001b[0m\u001b[0mastype\u001b[0m\u001b[1;33m(\u001b[0m\u001b[0mdtype\u001b[0m\u001b[1;33m,\u001b[0m \u001b[0mcopy\u001b[0m\u001b[1;33m=\u001b[0m\u001b[1;32mFalse\u001b[0m\u001b[1;33m)\u001b[0m\u001b[1;33m.\u001b[0m\u001b[0mastype\u001b[0m\u001b[1;33m(\u001b[0m\u001b[0mobject\u001b[0m\u001b[1;33m,\u001b[0m \u001b[0mcopy\u001b[0m\u001b[1;33m=\u001b[0m\u001b[1;32mFalse\u001b[0m\u001b[1;33m)\u001b[0m\u001b[1;33m\u001b[0m\u001b[1;33m\u001b[0m\u001b[0m\n",
      "\u001b[1;32m~\\anaconda3\\lib\\site-packages\\pandas\\core\\strings\\accessor.py\u001b[0m in \u001b[0;36mdecode\u001b[1;34m(self, encoding, errors)\u001b[0m\n\u001b[0;32m   1701\u001b[0m         \u001b[0marr\u001b[0m \u001b[1;33m=\u001b[0m \u001b[0mself\u001b[0m\u001b[1;33m.\u001b[0m\u001b[0m_data\u001b[0m\u001b[1;33m.\u001b[0m\u001b[0marray\u001b[0m\u001b[1;33m\u001b[0m\u001b[1;33m\u001b[0m\u001b[0m\n\u001b[0;32m   1702\u001b[0m         \u001b[1;31m# assert isinstance(arr, (StringArray,))\u001b[0m\u001b[1;33m\u001b[0m\u001b[1;33m\u001b[0m\u001b[1;33m\u001b[0m\u001b[0m\n\u001b[1;32m-> 1703\u001b[1;33m         \u001b[0mresult\u001b[0m \u001b[1;33m=\u001b[0m \u001b[0marr\u001b[0m\u001b[1;33m.\u001b[0m\u001b[0m_str_map\u001b[0m\u001b[1;33m(\u001b[0m\u001b[0mf\u001b[0m\u001b[1;33m)\u001b[0m\u001b[1;33m\u001b[0m\u001b[1;33m\u001b[0m\u001b[0m\n\u001b[0m\u001b[0;32m   1704\u001b[0m         \u001b[1;32mreturn\u001b[0m \u001b[0mself\u001b[0m\u001b[1;33m.\u001b[0m\u001b[0m_wrap_result\u001b[0m\u001b[1;33m(\u001b[0m\u001b[0mresult\u001b[0m\u001b[1;33m)\u001b[0m\u001b[1;33m\u001b[0m\u001b[1;33m\u001b[0m\u001b[0m\n\u001b[0;32m   1705\u001b[0m \u001b[1;33m\u001b[0m\u001b[0m\n",
      "\u001b[1;32m~\\anaconda3\\lib\\site-packages\\pandas\\core\\strings\\object_array.py\u001b[0m in \u001b[0;36m_str_map\u001b[1;34m(self, f, na_value, dtype)\u001b[0m\n\u001b[0;32m     59\u001b[0m         \u001b[0mconvert\u001b[0m \u001b[1;33m=\u001b[0m \u001b[1;32mnot\u001b[0m \u001b[0mnp\u001b[0m\u001b[1;33m.\u001b[0m\u001b[0mall\u001b[0m\u001b[1;33m(\u001b[0m\u001b[0mmask\u001b[0m\u001b[1;33m)\u001b[0m\u001b[1;33m\u001b[0m\u001b[1;33m\u001b[0m\u001b[0m\n\u001b[0;32m     60\u001b[0m         \u001b[1;32mtry\u001b[0m\u001b[1;33m:\u001b[0m\u001b[1;33m\u001b[0m\u001b[1;33m\u001b[0m\u001b[0m\n\u001b[1;32m---> 61\u001b[1;33m             \u001b[0mresult\u001b[0m \u001b[1;33m=\u001b[0m \u001b[0mlib\u001b[0m\u001b[1;33m.\u001b[0m\u001b[0mmap_infer_mask\u001b[0m\u001b[1;33m(\u001b[0m\u001b[0marr\u001b[0m\u001b[1;33m,\u001b[0m \u001b[0mf\u001b[0m\u001b[1;33m,\u001b[0m \u001b[0mmask\u001b[0m\u001b[1;33m.\u001b[0m\u001b[0mview\u001b[0m\u001b[1;33m(\u001b[0m\u001b[0mnp\u001b[0m\u001b[1;33m.\u001b[0m\u001b[0muint8\u001b[0m\u001b[1;33m)\u001b[0m\u001b[1;33m,\u001b[0m \u001b[0mconvert\u001b[0m\u001b[1;33m)\u001b[0m\u001b[1;33m\u001b[0m\u001b[1;33m\u001b[0m\u001b[0m\n\u001b[0m\u001b[0;32m     62\u001b[0m         \u001b[1;32mexcept\u001b[0m \u001b[1;33m(\u001b[0m\u001b[0mTypeError\u001b[0m\u001b[1;33m,\u001b[0m \u001b[0mAttributeError\u001b[0m\u001b[1;33m)\u001b[0m \u001b[1;32mas\u001b[0m \u001b[0me\u001b[0m\u001b[1;33m:\u001b[0m\u001b[1;33m\u001b[0m\u001b[1;33m\u001b[0m\u001b[0m\n\u001b[0;32m     63\u001b[0m             \u001b[1;31m# Reraise the exception if callable `f` got wrong number of args.\u001b[0m\u001b[1;33m\u001b[0m\u001b[1;33m\u001b[0m\u001b[1;33m\u001b[0m\u001b[0m\n",
      "\u001b[1;32mpandas\\_libs\\lib.pyx\u001b[0m in \u001b[0;36mpandas._libs.lib.map_infer_mask\u001b[1;34m()\u001b[0m\n",
      "\u001b[1;32mpandas\\_libs\\lib.pyx\u001b[0m in \u001b[0;36mpandas._libs.lib.maybe_convert_objects\u001b[1;34m()\u001b[0m\n",
      "\u001b[1;31mMemoryError\u001b[0m: Unable to allocate 1.66 GiB for an array with shape (223162884,) and data type float64"
     ]
    }
   ],
   "source": [
    "from radis.io.hitemp import fetch_hitemp\n",
    "df = fetch_hitemp(\"CH4\", verbose=2)"
   ]
  },
  {
   "cell_type": "markdown",
   "id": "b5945e84-28a5-46a2-8f5c-0963c1c83904",
   "metadata": {},
   "source": [
    "So despite my 16 GB RAM, Pandas is not able to load my RADIS-generated HDF5 CH4 database.\n",
    "\n",
    "Switching to a smaller N2O dataset : "
   ]
  },
  {
   "cell_type": "code",
   "execution_count": 51,
   "id": "0a84e486-5543-4b1f-97dd-90ffc51bc622",
   "metadata": {},
   "outputs": [
    {
     "name": "stdout",
     "output_type": "stream",
     "text": [
      "Using existing database HITEMP-N2O\n",
      "Returned existing database in 27.06\n",
      "28.14509344100952\n"
     ]
    }
   ],
   "source": [
    "from radis.io.hitemp import fetch_hitemp\n",
    "from time import time\n",
    "t0 = time()\n",
    "df = fetch_hitemp(\"N2O\", verbose=2)\n",
    "print(time()-t0)"
   ]
  },
  {
   "cell_type": "code",
   "execution_count": 52,
   "id": "d51a09f9-7b19-46f2-8dbd-7c24f6d361ac",
   "metadata": {},
   "outputs": [
    {
     "name": "stdout",
     "output_type": "stream",
     "text": [
      "266M N2O-04_HITEMP2019.h5\n"
     ]
    }
   ],
   "source": [
    "!ls -hs N2O-04_HITEMP2019.h5"
   ]
  },
  {
   "cell_type": "code",
   "execution_count": 53,
   "id": "dd6c9a19-e268-42dd-b839-ee1243df81fe",
   "metadata": {},
   "outputs": [
    {
     "name": "stdout",
     "output_type": "stream",
     "text": [
      "6.951995134353638\n"
     ]
    }
   ],
   "source": [
    "from time import time\n",
    "t0 = time()\n",
    "df = vaex.from_pandas(df)\n",
    "print(time()-t0)"
   ]
  },
  {
   "cell_type": "markdown",
   "id": "440c68ea-cd23-4868-ad05-e9b3703cd5fe",
   "metadata": {},
   "source": [
    "Now let's export it back to a column-based, VAEX friendly HDF5 : "
   ]
  },
  {
   "cell_type": "code",
   "execution_count": 54,
   "id": "836759e0-8bad-4d24-a48a-98e2d7e25545",
   "metadata": {},
   "outputs": [
    {
     "name": "stdout",
     "output_type": "stream",
     "text": [
      "12.48684811592102\n"
     ]
    }
   ],
   "source": [
    "from time import time\n",
    "t0 = time()\n",
    "df.export(\"~/.radisdb/N2O-04_HITEMP2019.hdf5\")\n",
    "print(time()-t0)"
   ]
  },
  {
   "cell_type": "markdown",
   "id": "5014f1d5-e314-4dd3-b521-b2fe089c6747",
   "metadata": {},
   "source": [
    "Now let's re-open the HDF5 and start lazy-evaluating it : \n"
   ]
  },
  {
   "cell_type": "code",
   "execution_count": 55,
   "id": "cc164c4b-3623-4bf3-9dc7-2466e4ccb4f5",
   "metadata": {},
   "outputs": [
    {
     "name": "stdout",
     "output_type": "stream",
     "text": [
      "15.3 ms ± 3.85 ms per loop (mean ± std. dev. of 7 runs, 3 loops each)\n"
     ]
    }
   ],
   "source": [
    "%timeit -n 3           df = vaex.open(\"~/.radisdb/N2O-04_HITEMP2019.hdf5\")"
   ]
  },
  {
   "cell_type": "code",
   "execution_count": 56,
   "id": "dfe4cb8f-77a2-4836-ba8d-03f639d794b1",
   "metadata": {},
   "outputs": [
    {
     "data": {
      "text/plain": [
       "['id',\n",
       " 'iso',\n",
       " 'wav',\n",
       " 'int',\n",
       " 'A',\n",
       " 'airbrd',\n",
       " 'selbrd',\n",
       " 'El',\n",
       " 'Tdpair',\n",
       " 'Pshft',\n",
       " 'globu',\n",
       " 'globl',\n",
       " 'locu',\n",
       " 'locl',\n",
       " 'ierr',\n",
       " 'iref',\n",
       " 'lmix',\n",
       " 'gp',\n",
       " 'gpp']"
      ]
     },
     "execution_count": 56,
     "metadata": {},
     "output_type": "execute_result"
    }
   ],
   "source": [
    "df.column_names"
   ]
  },
  {
   "cell_type": "markdown",
   "id": "c4c7ede3-1d4b-4f46-9b22-d6dce6cfa7e8",
   "metadata": {},
   "source": [
    "Trying some plots : "
   ]
  },
  {
   "cell_type": "code",
   "execution_count": 57,
   "id": "c6890cd0-e676-42b2-8bc2-fffe90dc1c41",
   "metadata": {},
   "outputs": [
    {
     "data": {
      "text/plain": [
       "<matplotlib.collections.PathCollection at 0x24626ac8d00>"
      ]
     },
     "execution_count": 57,
     "metadata": {},
     "output_type": "execute_result"
    },
    {
     "data": {
      "image/png": "[encoded data removed]",
      "text/plain": [
       "<Figure size 640x480 with 1 Axes>"
      ]
     },
     "metadata": {},
     "output_type": "display_data"
    }
   ],
   "source": [
    "df.viz.scatter(\"wav\", \"int\", length_check=False, length_limit=200000)\n",
    "# This is just a wrapper to Matplotlib's Scatter : small data."
   ]
  },
  {
   "cell_type": "code",
   "execution_count": null,
   "id": "f800823d-b941-47f3-b571-d0a612952dd6",
   "metadata": {},
   "outputs": [],
   "source": [
    "t0 = time()\n",
    "df = vaex.open(\"~/.radisdb/N2O-04_HITEMP2019.hdf5\")\n",
    "print(len(df), \"lines\")\n",
    "df.viz.histogram(df.wav)\n",
    "print(time()-t0)"
   ]
  },
  {
   "cell_type": "code",
   "execution_count": 59,
   "id": "869773a4-051c-4eca-8b2c-c4a19ccafc9a",
   "metadata": {},
   "outputs": [
    {
     "name": "stdout",
     "output_type": "stream",
     "text": [
      "0.3563868999481201\n"
     ]
    },
    {
     "data": {
      "image/png": "[encoded data removed]",
      "text/plain": [
       "<Figure size 640x480 with 2 Axes>"
      ]
     },
     "metadata": {},
     "output_type": "display_data"
    }
   ],
   "source": [
    "t0 = time()\n",
    "df = vaex.open(\"~/.radisdb/N2O-04_HITEMP2019.hdf5\")\n",
    "df.viz.heatmap(df.wav, df.airbrd)\n",
    "print(time()-t0)"
   ]
  },
  {
   "cell_type": "code",
   "execution_count": null,
   "id": "fc6fe807-47f4-4968-b337-31396fd01e1a",
   "metadata": {},
   "outputs": [],
   "source": []
  },
  {
   "cell_type": "markdown",
   "id": "1b5878f9-00df-49bc-8e32-0c09ab3a970a",
   "metadata": {},
   "source": [
    "## First optimization : use Vaex for all I/O operations, Pandas for the current calculations."
   ]
  },
  {
   "cell_type": "code",
   "execution_count": 4,
   "id": "0870942e-09e2-4b91-b147-7eec970db39c",
   "metadata": {},
   "outputs": [],
   "source": [
    "from time import time\n",
    "import vaex"
   ]
  },
  {
   "cell_type": "markdown",
   "id": "664bd820-1d0b-461c-b752-facd4cfcacfb",
   "metadata": {},
   "source": [
    "Exchange of data from Vaex to Pandas : "
   ]
  },
  {
   "cell_type": "code",
   "execution_count": 5,
   "id": "d039d782-b52d-4391-9c6d-8c239d01aeca",
   "metadata": {},
   "outputs": [
    {
     "name": "stdout",
     "output_type": "stream",
     "text": [
      "7.833287477493286\n"
     ]
    }
   ],
   "source": [
    "t0 = time() \n",
    "df = vaex.open(\"~/.radisdb/N2O-04_HITEMP2019.hdf5\")\n",
    "df_pandas = df.to_pandas_df()\n",
    "print(time()-t0)"
   ]
  },
  {
   "cell_type": "code",
   "execution_count": 2,
   "id": "a68b7a64-b8c9-4346-9130-4463f1d0e8fb",
   "metadata": {},
   "outputs": [
    {
     "name": "stdout",
     "output_type": "stream",
     "text": [
      "28.142656087875366\n"
     ]
    }
   ],
   "source": [
    "t0 = time() \n",
    "import pandas as pd\n",
    "df_pandas2 = pd.read_hdf(\"~/.radisdb/N2O-04_HITEMP2019.h5\")\n",
    "print(time()-t0)"
   ]
  },
  {
   "cell_type": "markdown",
   "id": "e89d3b19-def9-4bac-9521-73d57d381986",
   "metadata": {},
   "source": [
    "First conclusion : \n",
    "> if is much faster to read a VAEX dataFrame and convert to Pandas that read the (compressed/indexable) Pandas dataFrame directly  (even with full RAM available !)"
   ]
  },
  {
   "cell_type": "code",
   "execution_count": 7,
   "id": "0770e08f-31cb-4771-9483-73f9bfd7328b",
   "metadata": {},
   "outputs": [
    {
     "data": {
      "text/html": [
       "<div>\n",
       "<style scoped>\n",
       "    .dataframe tbody tr th:only-of-type {\n",
       "        vertical-align: middle;\n",
       "    }\n",
       "\n",
       "    .dataframe tbody tr th {\n",
       "        vertical-align: top;\n",
       "    }\n",
       "\n",
       "    .dataframe thead th {\n",
       "        text-align: right;\n",
       "    }\n",
       "</style>\n",
       "<table border=\"1\" class=\"dataframe\">\n",
       "  <thead>\n",
       "    <tr style=\"text-align: right;\">\n",
       "      <th></th>\n",
       "      <th>id</th>\n",
       "      <th>iso</th>\n",
       "      <th>wav</th>\n",
       "      <th>int</th>\n",
       "      <th>A</th>\n",
       "      <th>airbrd</th>\n",
       "      <th>selbrd</th>\n",
       "      <th>El</th>\n",
       "      <th>Tdpair</th>\n",
       "      <th>Pshft</th>\n",
       "      <th>globu</th>\n",
       "      <th>globl</th>\n",
       "      <th>locu</th>\n",
       "      <th>locl</th>\n",
       "      <th>ierr</th>\n",
       "      <th>iref</th>\n",
       "      <th>lmix</th>\n",
       "      <th>gp</th>\n",
       "      <th>gpp</th>\n",
       "    </tr>\n",
       "  </thead>\n",
       "  <tbody>\n",
       "    <tr>\n",
       "      <th>0</th>\n",
       "      <td>4</td>\n",
       "      <td>4</td>\n",
       "      <td>0.791154</td>\n",
       "      <td>1.022000e-28</td>\n",
       "      <td>1.245000e-09</td>\n",
       "      <td>0.0986</td>\n",
       "      <td>0.127</td>\n",
       "      <td>0.0000</td>\n",
       "      <td>0.75</td>\n",
       "      <td>0.0</td>\n",
       "      <td>0 0 0 0</td>\n",
       "      <td>0 0 0 0</td>\n",
       "      <td></td>\n",
       "      <td>R  0e</td>\n",
       "      <td>636650</td>\n",
       "      <td>9 6 3 1 1 0</td>\n",
       "      <td></td>\n",
       "      <td>27.0</td>\n",
       "      <td>9.0</td>\n",
       "    </tr>\n",
       "    <tr>\n",
       "      <th>1</th>\n",
       "      <td>4</td>\n",
       "      <td>1</td>\n",
       "      <td>0.838022</td>\n",
       "      <td>6.980000e-26</td>\n",
       "      <td>1.700000e-09</td>\n",
       "      <td>0.0986</td>\n",
       "      <td>0.127</td>\n",
       "      <td>0.0000</td>\n",
       "      <td>0.75</td>\n",
       "      <td>0.0</td>\n",
       "      <td>1    0 0 0 0</td>\n",
       "      <td>1    0 0 0 0</td>\n",
       "      <td></td>\n",
       "      <td>R  0e</td>\n",
       "      <td>006650</td>\n",
       "      <td>0 0 3 1 1 0</td>\n",
       "      <td></td>\n",
       "      <td>27.0</td>\n",
       "      <td>9.0</td>\n",
       "    </tr>\n",
       "    <tr>\n",
       "      <th>2</th>\n",
       "      <td>4</td>\n",
       "      <td>4</td>\n",
       "      <td>1.582305</td>\n",
       "      <td>8.172000e-28</td>\n",
       "      <td>1.201000e-08</td>\n",
       "      <td>0.0931</td>\n",
       "      <td>0.120</td>\n",
       "      <td>0.7912</td>\n",
       "      <td>0.75</td>\n",
       "      <td>0.0</td>\n",
       "      <td>0 0 0 0</td>\n",
       "      <td>0 0 0 0</td>\n",
       "      <td></td>\n",
       "      <td>R  1e</td>\n",
       "      <td>636650</td>\n",
       "      <td>9 6 3 1 1 0</td>\n",
       "      <td></td>\n",
       "      <td>45.0</td>\n",
       "      <td>27.0</td>\n",
       "    </tr>\n",
       "    <tr>\n",
       "      <th>3</th>\n",
       "      <td>4</td>\n",
       "      <td>4</td>\n",
       "      <td>1.583031</td>\n",
       "      <td>3.585000e-29</td>\n",
       "      <td>9.022000e-09</td>\n",
       "      <td>0.0931</td>\n",
       "      <td>0.120</td>\n",
       "      <td>585.0159</td>\n",
       "      <td>0.75</td>\n",
       "      <td>0.0</td>\n",
       "      <td>0 1 1 0</td>\n",
       "      <td>0 1 1 0</td>\n",
       "      <td></td>\n",
       "      <td>R  1e</td>\n",
       "      <td>336650</td>\n",
       "      <td>9 6 3 1 1 0</td>\n",
       "      <td></td>\n",
       "      <td>45.0</td>\n",
       "      <td>27.0</td>\n",
       "    </tr>\n",
       "    <tr>\n",
       "      <th>4</th>\n",
       "      <td>4</td>\n",
       "      <td>4</td>\n",
       "      <td>1.585880</td>\n",
       "      <td>3.598000e-29</td>\n",
       "      <td>9.071000e-09</td>\n",
       "      <td>0.0931</td>\n",
       "      <td>0.120</td>\n",
       "      <td>585.0173</td>\n",
       "      <td>0.75</td>\n",
       "      <td>0.0</td>\n",
       "      <td>0 1 1 0</td>\n",
       "      <td>0 1 1 0</td>\n",
       "      <td></td>\n",
       "      <td>R  1f</td>\n",
       "      <td>336650</td>\n",
       "      <td>9 6 3 1 1 0</td>\n",
       "      <td></td>\n",
       "      <td>45.0</td>\n",
       "      <td>27.0</td>\n",
       "    </tr>\n",
       "    <tr>\n",
       "      <th>...</th>\n",
       "      <td>...</td>\n",
       "      <td>...</td>\n",
       "      <td>...</td>\n",
       "      <td>...</td>\n",
       "      <td>...</td>\n",
       "      <td>...</td>\n",
       "      <td>...</td>\n",
       "      <td>...</td>\n",
       "      <td>...</td>\n",
       "      <td>...</td>\n",
       "      <td>...</td>\n",
       "      <td>...</td>\n",
       "      <td>...</td>\n",
       "      <td>...</td>\n",
       "      <td>...</td>\n",
       "      <td>...</td>\n",
       "      <td>...</td>\n",
       "      <td>...</td>\n",
       "      <td>...</td>\n",
       "    </tr>\n",
       "    <tr>\n",
       "      <th>3626420</th>\n",
       "      <td>4</td>\n",
       "      <td>1</td>\n",
       "      <td>12899.037134</td>\n",
       "      <td>3.294000e-27</td>\n",
       "      <td>1.319000e-05</td>\n",
       "      <td>0.0770</td>\n",
       "      <td>0.093</td>\n",
       "      <td>193.5455</td>\n",
       "      <td>0.67</td>\n",
       "      <td>0.0</td>\n",
       "      <td>3    0 0 0 6</td>\n",
       "      <td>1    0 0 0 0</td>\n",
       "      <td></td>\n",
       "      <td>R 21e</td>\n",
       "      <td>333330</td>\n",
       "      <td>11 8 4 2 2 0</td>\n",
       "      <td></td>\n",
       "      <td>405.0</td>\n",
       "      <td>387.0</td>\n",
       "    </tr>\n",
       "    <tr>\n",
       "      <th>3626421</th>\n",
       "      <td>4</td>\n",
       "      <td>1</td>\n",
       "      <td>12899.069827</td>\n",
       "      <td>3.695000e-27</td>\n",
       "      <td>1.310000e-05</td>\n",
       "      <td>0.0806</td>\n",
       "      <td>0.096</td>\n",
       "      <td>128.2008</td>\n",
       "      <td>0.68</td>\n",
       "      <td>0.0</td>\n",
       "      <td>3    0 0 0 6</td>\n",
       "      <td>1    0 0 0 0</td>\n",
       "      <td></td>\n",
       "      <td>R 17e</td>\n",
       "      <td>333330</td>\n",
       "      <td>11 8 4 2 2 0</td>\n",
       "      <td></td>\n",
       "      <td>333.0</td>\n",
       "      <td>315.0</td>\n",
       "    </tr>\n",
       "    <tr>\n",
       "      <th>3626422</th>\n",
       "      <td>4</td>\n",
       "      <td>1</td>\n",
       "      <td>12899.107692</td>\n",
       "      <td>3.424000e-27</td>\n",
       "      <td>1.318000e-05</td>\n",
       "      <td>0.0777</td>\n",
       "      <td>0.094</td>\n",
       "      <td>175.9535</td>\n",
       "      <td>0.67</td>\n",
       "      <td>0.0</td>\n",
       "      <td>3    0 0 0 6</td>\n",
       "      <td>1    0 0 0 0</td>\n",
       "      <td></td>\n",
       "      <td>R 20e</td>\n",
       "      <td>333330</td>\n",
       "      <td>11 8 4 2 2 0</td>\n",
       "      <td></td>\n",
       "      <td>387.0</td>\n",
       "      <td>369.0</td>\n",
       "    </tr>\n",
       "    <tr>\n",
       "      <th>3626423</th>\n",
       "      <td>4</td>\n",
       "      <td>1</td>\n",
       "      <td>12899.124064</td>\n",
       "      <td>3.628000e-27</td>\n",
       "      <td>1.313000e-05</td>\n",
       "      <td>0.0794</td>\n",
       "      <td>0.095</td>\n",
       "      <td>143.2811</td>\n",
       "      <td>0.68</td>\n",
       "      <td>0.0</td>\n",
       "      <td>3    0 0 0 6</td>\n",
       "      <td>1    0 0 0 0</td>\n",
       "      <td></td>\n",
       "      <td>R 18e</td>\n",
       "      <td>333330</td>\n",
       "      <td>11 8 4 2 2 0</td>\n",
       "      <td></td>\n",
       "      <td>351.0</td>\n",
       "      <td>333.0</td>\n",
       "    </tr>\n",
       "    <tr>\n",
       "      <th>3626424</th>\n",
       "      <td>4</td>\n",
       "      <td>1</td>\n",
       "      <td>12899.136678</td>\n",
       "      <td>3.536000e-27</td>\n",
       "      <td>1.315000e-05</td>\n",
       "      <td>0.0783</td>\n",
       "      <td>0.095</td>\n",
       "      <td>159.1987</td>\n",
       "      <td>0.67</td>\n",
       "      <td>0.0</td>\n",
       "      <td>3    0 0 0 6</td>\n",
       "      <td>1    0 0 0 0</td>\n",
       "      <td></td>\n",
       "      <td>R 19e</td>\n",
       "      <td>333330</td>\n",
       "      <td>11 8 4 2 2 0</td>\n",
       "      <td></td>\n",
       "      <td>369.0</td>\n",
       "      <td>351.0</td>\n",
       "    </tr>\n",
       "  </tbody>\n",
       "</table>\n",
       "<p>3626425 rows × 19 columns</p>\n",
       "</div>"
      ],
      "text/plain": [
       "         id  iso           wav           int             A  airbrd  selbrd  \\\n",
       "0         4    4      0.791154  1.022000e-28  1.245000e-09  0.0986   0.127   \n",
       "1         4    1      0.838022  6.980000e-26  1.700000e-09  0.0986   0.127   \n",
       "2         4    4      1.582305  8.172000e-28  1.201000e-08  0.0931   0.120   \n",
       "3         4    4      1.583031  3.585000e-29  9.022000e-09  0.0931   0.120   \n",
       "4         4    4      1.585880  3.598000e-29  9.071000e-09  0.0931   0.120   \n",
       "...      ..  ...           ...           ...           ...     ...     ...   \n",
       "3626420   4    1  12899.037134  3.294000e-27  1.319000e-05  0.0770   0.093   \n",
       "3626421   4    1  12899.069827  3.695000e-27  1.310000e-05  0.0806   0.096   \n",
       "3626422   4    1  12899.107692  3.424000e-27  1.318000e-05  0.0777   0.094   \n",
       "3626423   4    1  12899.124064  3.628000e-27  1.313000e-05  0.0794   0.095   \n",
       "3626424   4    1  12899.136678  3.536000e-27  1.315000e-05  0.0783   0.095   \n",
       "\n",
       "               El  Tdpair  Pshft            globu            globl  \\\n",
       "0          0.0000    0.75    0.0          0 0 0 0          0 0 0 0   \n",
       "1          0.0000    0.75    0.0     1    0 0 0 0     1    0 0 0 0   \n",
       "2          0.7912    0.75    0.0          0 0 0 0          0 0 0 0   \n",
       "3        585.0159    0.75    0.0          0 1 1 0          0 1 1 0   \n",
       "4        585.0173    0.75    0.0          0 1 1 0          0 1 1 0   \n",
       "...           ...     ...    ...              ...              ...   \n",
       "3626420  193.5455    0.67    0.0     3    0 0 0 6     1    0 0 0 0   \n",
       "3626421  128.2008    0.68    0.0     3    0 0 0 6     1    0 0 0 0   \n",
       "3626422  175.9535    0.67    0.0     3    0 0 0 6     1    0 0 0 0   \n",
       "3626423  143.2811    0.68    0.0     3    0 0 0 6     1    0 0 0 0   \n",
       "3626424  159.1987    0.67    0.0     3    0 0 0 6     1    0 0 0 0   \n",
       "\n",
       "                    locu             locl    ierr          iref lmix     gp  \\\n",
       "0                              R  0e       636650   9 6 3 1 1 0        27.0   \n",
       "1                              R  0e       006650   0 0 3 1 1 0        27.0   \n",
       "2                              R  1e       636650   9 6 3 1 1 0        45.0   \n",
       "3                              R  1e       336650   9 6 3 1 1 0        45.0   \n",
       "4                              R  1f       336650   9 6 3 1 1 0        45.0   \n",
       "...                  ...              ...     ...           ...  ...    ...   \n",
       "3626420                        R 21e       333330  11 8 4 2 2 0       405.0   \n",
       "3626421                        R 17e       333330  11 8 4 2 2 0       333.0   \n",
       "3626422                        R 20e       333330  11 8 4 2 2 0       387.0   \n",
       "3626423                        R 18e       333330  11 8 4 2 2 0       351.0   \n",
       "3626424                        R 19e       333330  11 8 4 2 2 0       369.0   \n",
       "\n",
       "           gpp  \n",
       "0          9.0  \n",
       "1          9.0  \n",
       "2         27.0  \n",
       "3         27.0  \n",
       "4         27.0  \n",
       "...        ...  \n",
       "3626420  387.0  \n",
       "3626421  315.0  \n",
       "3626422  369.0  \n",
       "3626423  333.0  \n",
       "3626424  351.0  \n",
       "\n",
       "[3626425 rows x 19 columns]"
      ]
     },
     "execution_count": 7,
     "metadata": {},
     "output_type": "execute_result"
    }
   ],
   "source": [
    "df_pandas"
   ]
  },
  {
   "cell_type": "code",
   "execution_count": 8,
   "id": "77b6a237-8e40-46f5-b49a-8f145680e7cf",
   "metadata": {},
   "outputs": [
    {
     "data": {
      "text/html": [
       "<div>\n",
       "<style scoped>\n",
       "    .dataframe tbody tr th:only-of-type {\n",
       "        vertical-align: middle;\n",
       "    }\n",
       "\n",
       "    .dataframe tbody tr th {\n",
       "        vertical-align: top;\n",
       "    }\n",
       "\n",
       "    .dataframe thead th {\n",
       "        text-align: right;\n",
       "    }\n",
       "</style>\n",
       "<table border=\"1\" class=\"dataframe\">\n",
       "  <thead>\n",
       "    <tr style=\"text-align: right;\">\n",
       "      <th></th>\n",
       "      <th>id</th>\n",
       "      <th>iso</th>\n",
       "      <th>wav</th>\n",
       "      <th>int</th>\n",
       "      <th>A</th>\n",
       "      <th>airbrd</th>\n",
       "      <th>selbrd</th>\n",
       "      <th>El</th>\n",
       "      <th>Tdpair</th>\n",
       "      <th>Pshft</th>\n",
       "      <th>globu</th>\n",
       "      <th>globl</th>\n",
       "      <th>locu</th>\n",
       "      <th>locl</th>\n",
       "      <th>ierr</th>\n",
       "      <th>iref</th>\n",
       "      <th>lmix</th>\n",
       "      <th>gp</th>\n",
       "      <th>gpp</th>\n",
       "    </tr>\n",
       "  </thead>\n",
       "  <tbody>\n",
       "    <tr>\n",
       "      <th>0</th>\n",
       "      <td>4</td>\n",
       "      <td>4</td>\n",
       "      <td>0.791154</td>\n",
       "      <td>1.022000e-28</td>\n",
       "      <td>1.245000e-09</td>\n",
       "      <td>0.0986</td>\n",
       "      <td>0.127</td>\n",
       "      <td>0.0000</td>\n",
       "      <td>0.75</td>\n",
       "      <td>0.0</td>\n",
       "      <td>0 0 0 0</td>\n",
       "      <td>0 0 0 0</td>\n",
       "      <td></td>\n",
       "      <td>R  0e</td>\n",
       "      <td>636650</td>\n",
       "      <td>9 6 3 1 1 0</td>\n",
       "      <td></td>\n",
       "      <td>27.0</td>\n",
       "      <td>9.0</td>\n",
       "    </tr>\n",
       "    <tr>\n",
       "      <th>1</th>\n",
       "      <td>4</td>\n",
       "      <td>1</td>\n",
       "      <td>0.838022</td>\n",
       "      <td>6.980000e-26</td>\n",
       "      <td>1.700000e-09</td>\n",
       "      <td>0.0986</td>\n",
       "      <td>0.127</td>\n",
       "      <td>0.0000</td>\n",
       "      <td>0.75</td>\n",
       "      <td>0.0</td>\n",
       "      <td>1    0 0 0 0</td>\n",
       "      <td>1    0 0 0 0</td>\n",
       "      <td></td>\n",
       "      <td>R  0e</td>\n",
       "      <td>006650</td>\n",
       "      <td>0 0 3 1 1 0</td>\n",
       "      <td></td>\n",
       "      <td>27.0</td>\n",
       "      <td>9.0</td>\n",
       "    </tr>\n",
       "    <tr>\n",
       "      <th>2</th>\n",
       "      <td>4</td>\n",
       "      <td>4</td>\n",
       "      <td>1.582305</td>\n",
       "      <td>8.172000e-28</td>\n",
       "      <td>1.201000e-08</td>\n",
       "      <td>0.0931</td>\n",
       "      <td>0.120</td>\n",
       "      <td>0.7912</td>\n",
       "      <td>0.75</td>\n",
       "      <td>0.0</td>\n",
       "      <td>0 0 0 0</td>\n",
       "      <td>0 0 0 0</td>\n",
       "      <td></td>\n",
       "      <td>R  1e</td>\n",
       "      <td>636650</td>\n",
       "      <td>9 6 3 1 1 0</td>\n",
       "      <td></td>\n",
       "      <td>45.0</td>\n",
       "      <td>27.0</td>\n",
       "    </tr>\n",
       "    <tr>\n",
       "      <th>3</th>\n",
       "      <td>4</td>\n",
       "      <td>4</td>\n",
       "      <td>1.583031</td>\n",
       "      <td>3.585000e-29</td>\n",
       "      <td>9.022000e-09</td>\n",
       "      <td>0.0931</td>\n",
       "      <td>0.120</td>\n",
       "      <td>585.0159</td>\n",
       "      <td>0.75</td>\n",
       "      <td>0.0</td>\n",
       "      <td>0 1 1 0</td>\n",
       "      <td>0 1 1 0</td>\n",
       "      <td></td>\n",
       "      <td>R  1e</td>\n",
       "      <td>336650</td>\n",
       "      <td>9 6 3 1 1 0</td>\n",
       "      <td></td>\n",
       "      <td>45.0</td>\n",
       "      <td>27.0</td>\n",
       "    </tr>\n",
       "    <tr>\n",
       "      <th>4</th>\n",
       "      <td>4</td>\n",
       "      <td>4</td>\n",
       "      <td>1.585880</td>\n",
       "      <td>3.598000e-29</td>\n",
       "      <td>9.071000e-09</td>\n",
       "      <td>0.0931</td>\n",
       "      <td>0.120</td>\n",
       "      <td>585.0173</td>\n",
       "      <td>0.75</td>\n",
       "      <td>0.0</td>\n",
       "      <td>0 1 1 0</td>\n",
       "      <td>0 1 1 0</td>\n",
       "      <td></td>\n",
       "      <td>R  1f</td>\n",
       "      <td>336650</td>\n",
       "      <td>9 6 3 1 1 0</td>\n",
       "      <td></td>\n",
       "      <td>45.0</td>\n",
       "      <td>27.0</td>\n",
       "    </tr>\n",
       "    <tr>\n",
       "      <th>...</th>\n",
       "      <td>...</td>\n",
       "      <td>...</td>\n",
       "      <td>...</td>\n",
       "      <td>...</td>\n",
       "      <td>...</td>\n",
       "      <td>...</td>\n",
       "      <td>...</td>\n",
       "      <td>...</td>\n",
       "      <td>...</td>\n",
       "      <td>...</td>\n",
       "      <td>...</td>\n",
       "      <td>...</td>\n",
       "      <td>...</td>\n",
       "      <td>...</td>\n",
       "      <td>...</td>\n",
       "      <td>...</td>\n",
       "      <td>...</td>\n",
       "      <td>...</td>\n",
       "      <td>...</td>\n",
       "    </tr>\n",
       "    <tr>\n",
       "      <th>26420</th>\n",
       "      <td>4</td>\n",
       "      <td>1</td>\n",
       "      <td>12899.037134</td>\n",
       "      <td>3.294000e-27</td>\n",
       "      <td>1.319000e-05</td>\n",
       "      <td>0.0770</td>\n",
       "      <td>0.093</td>\n",
       "      <td>193.5455</td>\n",
       "      <td>0.67</td>\n",
       "      <td>0.0</td>\n",
       "      <td>3    0 0 0 6</td>\n",
       "      <td>1    0 0 0 0</td>\n",
       "      <td></td>\n",
       "      <td>R 21e</td>\n",
       "      <td>333330</td>\n",
       "      <td>11 8 4 2 2 0</td>\n",
       "      <td></td>\n",
       "      <td>405.0</td>\n",
       "      <td>387.0</td>\n",
       "    </tr>\n",
       "    <tr>\n",
       "      <th>26421</th>\n",
       "      <td>4</td>\n",
       "      <td>1</td>\n",
       "      <td>12899.069827</td>\n",
       "      <td>3.695000e-27</td>\n",
       "      <td>1.310000e-05</td>\n",
       "      <td>0.0806</td>\n",
       "      <td>0.096</td>\n",
       "      <td>128.2008</td>\n",
       "      <td>0.68</td>\n",
       "      <td>0.0</td>\n",
       "      <td>3    0 0 0 6</td>\n",
       "      <td>1    0 0 0 0</td>\n",
       "      <td></td>\n",
       "      <td>R 17e</td>\n",
       "      <td>333330</td>\n",
       "      <td>11 8 4 2 2 0</td>\n",
       "      <td></td>\n",
       "      <td>333.0</td>\n",
       "      <td>315.0</td>\n",
       "    </tr>\n",
       "    <tr>\n",
       "      <th>26422</th>\n",
       "      <td>4</td>\n",
       "      <td>1</td>\n",
       "      <td>12899.107692</td>\n",
       "      <td>3.424000e-27</td>\n",
       "      <td>1.318000e-05</td>\n",
       "      <td>0.0777</td>\n",
       "      <td>0.094</td>\n",
       "      <td>175.9535</td>\n",
       "      <td>0.67</td>\n",
       "      <td>0.0</td>\n",
       "      <td>3    0 0 0 6</td>\n",
       "      <td>1    0 0 0 0</td>\n",
       "      <td></td>\n",
       "      <td>R 20e</td>\n",
       "      <td>333330</td>\n",
       "      <td>11 8 4 2 2 0</td>\n",
       "      <td></td>\n",
       "      <td>387.0</td>\n",
       "      <td>369.0</td>\n",
       "    </tr>\n",
       "    <tr>\n",
       "      <th>26423</th>\n",
       "      <td>4</td>\n",
       "      <td>1</td>\n",
       "      <td>12899.124064</td>\n",
       "      <td>3.628000e-27</td>\n",
       "      <td>1.313000e-05</td>\n",
       "      <td>0.0794</td>\n",
       "      <td>0.095</td>\n",
       "      <td>143.2811</td>\n",
       "      <td>0.68</td>\n",
       "      <td>0.0</td>\n",
       "      <td>3    0 0 0 6</td>\n",
       "      <td>1    0 0 0 0</td>\n",
       "      <td></td>\n",
       "      <td>R 18e</td>\n",
       "      <td>333330</td>\n",
       "      <td>11 8 4 2 2 0</td>\n",
       "      <td></td>\n",
       "      <td>351.0</td>\n",
       "      <td>333.0</td>\n",
       "    </tr>\n",
       "    <tr>\n",
       "      <th>26424</th>\n",
       "      <td>4</td>\n",
       "      <td>1</td>\n",
       "      <td>12899.136678</td>\n",
       "      <td>3.536000e-27</td>\n",
       "      <td>1.315000e-05</td>\n",
       "      <td>0.0783</td>\n",
       "      <td>0.095</td>\n",
       "      <td>159.1987</td>\n",
       "      <td>0.67</td>\n",
       "      <td>0.0</td>\n",
       "      <td>3    0 0 0 6</td>\n",
       "      <td>1    0 0 0 0</td>\n",
       "      <td></td>\n",
       "      <td>R 19e</td>\n",
       "      <td>333330</td>\n",
       "      <td>11 8 4 2 2 0</td>\n",
       "      <td></td>\n",
       "      <td>369.0</td>\n",
       "      <td>351.0</td>\n",
       "    </tr>\n",
       "  </tbody>\n",
       "</table>\n",
       "<p>3626425 rows × 19 columns</p>\n",
       "</div>"
      ],
      "text/plain": [
       "       id  iso           wav           int             A  airbrd  selbrd  \\\n",
       "0       4    4      0.791154  1.022000e-28  1.245000e-09  0.0986   0.127   \n",
       "1       4    1      0.838022  6.980000e-26  1.700000e-09  0.0986   0.127   \n",
       "2       4    4      1.582305  8.172000e-28  1.201000e-08  0.0931   0.120   \n",
       "3       4    4      1.583031  3.585000e-29  9.022000e-09  0.0931   0.120   \n",
       "4       4    4      1.585880  3.598000e-29  9.071000e-09  0.0931   0.120   \n",
       "...    ..  ...           ...           ...           ...     ...     ...   \n",
       "26420   4    1  12899.037134  3.294000e-27  1.319000e-05  0.0770   0.093   \n",
       "26421   4    1  12899.069827  3.695000e-27  1.310000e-05  0.0806   0.096   \n",
       "26422   4    1  12899.107692  3.424000e-27  1.318000e-05  0.0777   0.094   \n",
       "26423   4    1  12899.124064  3.628000e-27  1.313000e-05  0.0794   0.095   \n",
       "26424   4    1  12899.136678  3.536000e-27  1.315000e-05  0.0783   0.095   \n",
       "\n",
       "             El  Tdpair  Pshft            globu            globl  \\\n",
       "0        0.0000    0.75    0.0          0 0 0 0          0 0 0 0   \n",
       "1        0.0000    0.75    0.0     1    0 0 0 0     1    0 0 0 0   \n",
       "2        0.7912    0.75    0.0          0 0 0 0          0 0 0 0   \n",
       "3      585.0159    0.75    0.0          0 1 1 0          0 1 1 0   \n",
       "4      585.0173    0.75    0.0          0 1 1 0          0 1 1 0   \n",
       "...         ...     ...    ...              ...              ...   \n",
       "26420  193.5455    0.67    0.0     3    0 0 0 6     1    0 0 0 0   \n",
       "26421  128.2008    0.68    0.0     3    0 0 0 6     1    0 0 0 0   \n",
       "26422  175.9535    0.67    0.0     3    0 0 0 6     1    0 0 0 0   \n",
       "26423  143.2811    0.68    0.0     3    0 0 0 6     1    0 0 0 0   \n",
       "26424  159.1987    0.67    0.0     3    0 0 0 6     1    0 0 0 0   \n",
       "\n",
       "                  locu             locl    ierr          iref lmix     gp  \\\n",
       "0                            R  0e       636650   9 6 3 1 1 0        27.0   \n",
       "1                            R  0e       006650   0 0 3 1 1 0        27.0   \n",
       "2                            R  1e       636650   9 6 3 1 1 0        45.0   \n",
       "3                            R  1e       336650   9 6 3 1 1 0        45.0   \n",
       "4                            R  1f       336650   9 6 3 1 1 0        45.0   \n",
       "...                ...              ...     ...           ...  ...    ...   \n",
       "26420                        R 21e       333330  11 8 4 2 2 0       405.0   \n",
       "26421                        R 17e       333330  11 8 4 2 2 0       333.0   \n",
       "26422                        R 20e       333330  11 8 4 2 2 0       387.0   \n",
       "26423                        R 18e       333330  11 8 4 2 2 0       351.0   \n",
       "26424                        R 19e       333330  11 8 4 2 2 0       369.0   \n",
       "\n",
       "         gpp  \n",
       "0        9.0  \n",
       "1        9.0  \n",
       "2       27.0  \n",
       "3       27.0  \n",
       "4       27.0  \n",
       "...      ...  \n",
       "26420  387.0  \n",
       "26421  315.0  \n",
       "26422  369.0  \n",
       "26423  333.0  \n",
       "26424  351.0  \n",
       "\n",
       "[3626425 rows x 19 columns]"
      ]
     },
     "execution_count": 8,
     "metadata": {},
     "output_type": "execute_result"
    }
   ],
   "source": [
    "df_pandas2"
   ]
  },
  {
   "cell_type": "markdown",
   "id": "2793da96-e819-4b6e-a2c9-df4fa6eb56ec",
   "metadata": {},
   "source": [
    "### Further optimisation : \n",
    "\n",
    "What if we only load the relevant columns to the Pandas DataFrame that will then be used for the calculations ? Let's try; from HDF5; or through VaeX. Because VAex's HDF5 is column based it will probably be very easy. I expect that loading only some columns from Pandas's HDF5 may not yield significant performance. "
   ]
  },
  {
   "cell_type": "code",
   "execution_count": 9,
   "id": "be96c028-df6f-47c0-b575-2e061093aae1",
   "metadata": {},
   "outputs": [
    {
     "data": {
      "text/plain": [
       "Index(['id', 'iso', 'wav', 'int', 'A', 'airbrd', 'selbrd', 'El', 'Tdpair',\n",
       "       'Pshft', 'globu', 'globl', 'locu', 'locl', 'ierr', 'iref', 'lmix', 'gp',\n",
       "       'gpp'],\n",
       "      dtype='object')"
      ]
     },
     "execution_count": 9,
     "metadata": {},
     "output_type": "execute_result"
    }
   ],
   "source": [
    "df_pandas.columns"
   ]
  },
  {
   "cell_type": "markdown",
   "id": "c3075cae-83fc-41a6-b459-1eb8ba22fc1c",
   "metadata": {},
   "source": [
    "Out of these we'll select the one relevant for the computation of the populations in a spectrum, i.e.; \"iso\", \"wav\", \"int\", \"El\"  for the moment. "
   ]
  },
  {
   "cell_type": "code",
   "execution_count": 10,
   "id": "21d17ab6-50aa-4c88-8a61-aac1909394c0",
   "metadata": {},
   "outputs": [
    {
     "name": "stdout",
     "output_type": "stream",
     "text": [
      "0.1795198917388916\n"
     ]
    }
   ],
   "source": [
    "t0 = time() \n",
    "df = vaex.open(\"~/.radisdb/N2O-04_HITEMP2019.hdf5\")\n",
    "df_pandas = df.to_pandas_df(column_names=[\"iso\", \"wav\", \"int\", \"El\"])\n",
    "print(time()-t0)"
   ]
  },
  {
   "cell_type": "markdown",
   "id": "d79201e1-81e2-499d-8379-d83df0e21440",
   "metadata": {},
   "source": [
    "Wow. That's much faster already !! "
   ]
  },
  {
   "cell_type": "code",
   "execution_count": 11,
   "id": "17c6bfc0-0a17-497e-8d4d-704c1b87dcfc",
   "metadata": {},
   "outputs": [
    {
     "name": "stdout",
     "output_type": "stream",
     "text": [
      "22.85481858253479\n"
     ]
    }
   ],
   "source": [
    "t0 = time() \n",
    "import pandas as pd\n",
    "df_pandas2 = pd.read_hdf(\"~/.radisdb/N2O-04_HITEMP2019.h5\", columns=[\"iso\", \"wav\", \"int\", \"El\"])\n",
    "print(time()-t0)"
   ]
  },
  {
   "cell_type": "markdown",
   "id": "db7d43b5-e4cd-4ca9-8e33-93b5e5532c03",
   "metadata": {},
   "source": [
    "In comparison, loading 4 out of 19 columns is about 70% as slow with Pandas. "
   ]
  },
  {
   "cell_type": "markdown",
   "id": "8d71155b-5edf-4ac8-b96d-85782e599cc5",
   "metadata": {},
   "source": [
    "### Index per row\n",
    "\n",
    "To be fair, let's do the reverse : let's load only specific isotopes; which are indexed by rows in Pandas's HDF5 ! "
   ]
  },
  {
   "cell_type": "code",
   "execution_count": 14,
   "id": "daf51d3b-8452-4cd0-b93c-1f6c4ab334a7",
   "metadata": {},
   "outputs": [
    {
     "name": "stdout",
     "output_type": "stream",
     "text": [
      "30.680099725723267\n"
     ]
    }
   ],
   "source": [
    "t0 = time() \n",
    "import pandas as pd\n",
    "df_pandas2 = pd.read_hdf(\"~/.radisdb/N2O-04_HITEMP2019.h5\", where=\"iso==1\")\n",
    "print(time()-t0)"
   ]
  },
  {
   "cell_type": "code",
   "execution_count": 16,
   "id": "b20bb670-6334-49bc-a370-4e47937a35cc",
   "metadata": {},
   "outputs": [
    {
     "data": {
      "text/plain": [
       "{1}"
      ]
     },
     "execution_count": 16,
     "metadata": {},
     "output_type": "execute_result"
    }
   ],
   "source": [
    "set(df_pandas2.iso)"
   ]
  },
  {
   "cell_type": "markdown",
   "id": "df168cb8-0910-421f-b61e-dc5d5e48eec4",
   "metadata": {},
   "source": [
    "So I did work; but I'm quite disapointed here; I expected some improvement in performances ! \n",
    "That's what's used in [RADIS 0.9.29](https://github.com/radis/radis/blob/develop/radis/io/hdf5.py#L87), though. \n",
    "\n",
    "Let's try with Vaex : "
   ]
  },
  {
   "cell_type": "code",
   "execution_count": 23,
   "id": "a6ff10db-94a4-40ac-9b2e-c07e52039bca",
   "metadata": {},
   "outputs": [
    {
     "name": "stdout",
     "output_type": "stream",
     "text": [
      "7.043155670166016\n"
     ]
    }
   ],
   "source": [
    "t0 = time()\n",
    "df = vaex.open(\"~/.radisdb/N2O-04_HITEMP2019.hdf5\")\n",
    "df.select(df.iso == 1)\n",
    "df_pandas = df.to_pandas_df(selection=True)\n",
    "print(time()-t0)"
   ]
  },
  {
   "cell_type": "code",
   "execution_count": 24,
   "id": "3f7cadff-42e6-45bb-a8a8-a68dcecd75a5",
   "metadata": {},
   "outputs": [
    {
     "data": {
      "text/plain": [
       "{1}"
      ]
     },
     "execution_count": 24,
     "metadata": {},
     "output_type": "execute_result"
    }
   ],
   "source": [
    "set(df_pandas.iso)"
   ]
  },
  {
   "cell_type": "markdown",
   "id": "b1128e8a-20e8-4980-b7e1-b1e1a8bf1e65",
   "metadata": {},
   "source": [
    "So it worked here ; and the selection itself was extremelly fast in Vaex. \n",
    "\n",
    "Maybe a sorted range may be more advantageous for Pandas's HDF5 ? Let's load only the 2000 - 5000 cm-1 range : "
   ]
  },
  {
   "cell_type": "code",
   "execution_count": 25,
   "id": "eacce3cf-9e4f-41fe-bb99-a1172b9ccee2",
   "metadata": {},
   "outputs": [
    {
     "name": "stdout",
     "output_type": "stream",
     "text": [
      "19.66069459915161\n"
     ]
    }
   ],
   "source": [
    "t0 = time() \n",
    "import pandas as pd\n",
    "df_pandas2 = pd.read_hdf(\"~/.radisdb/N2O-04_HITEMP2019.h5\", where=\"wav > 2000 and wav < 5000\")\n",
    "print(time()-t0)"
   ]
  },
  {
   "cell_type": "code",
   "execution_count": 26,
   "id": "a68496ed-1d33-451c-b724-75c518903420",
   "metadata": {},
   "outputs": [
    {
     "data": {
      "text/plain": [
       "(2000.000599, 4999.99425)"
      ]
     },
     "execution_count": 26,
     "metadata": {},
     "output_type": "execute_result"
    }
   ],
   "source": [
    "df_pandas2.wav.min(), df_pandas2.wav.max()"
   ]
  },
  {
   "cell_type": "code",
   "execution_count": 27,
   "id": "f8c9064e-01f4-4b12-9da2-84580a24b7f2",
   "metadata": {},
   "outputs": [
    {
     "name": "stdout",
     "output_type": "stream",
     "text": [
      "6.15947961807251\n"
     ]
    }
   ],
   "source": [
    "t0 = time()\n",
    "df = vaex.open(\"~/.radisdb/N2O-04_HITEMP2019.hdf5\")\n",
    "df.select(df.wav > 2000 and df.wav < 5000)\n",
    "df_pandas = df.to_pandas_df(selection=True)\n",
    "print(time()-t0)"
   ]
  },
  {
   "cell_type": "code",
   "execution_count": 28,
   "id": "8a7235da-040c-4c7f-b507-1ce231f9ea00",
   "metadata": {},
   "outputs": [
    {
     "data": {
      "text/plain": [
       "(2000.000599, 4999.99425)"
      ]
     },
     "execution_count": 28,
     "metadata": {},
     "output_type": "execute_result"
    }
   ],
   "source": [
    "df_pandas2.wav.min(), df_pandas2.wav.max()"
   ]
  },
  {
   "cell_type": "markdown",
   "id": "76933fbe-d53a-4b6b-b048-3bac711c45ae",
   "metadata": {},
   "source": [
    "Well; still the upper hand for VaeX.\n",
    "\n",
    "We know what this means : if we combine everything, for a practical example of single-isotope ; 2000 - 5000 cm-1; computing the populations : \n",
    "\n",
    "\n",
    "Pure Pandas : "
   ]
  },
  {
   "cell_type": "code",
   "execution_count": 29,
   "id": "11f96154-bf8b-4d68-91ab-431ecde47836",
   "metadata": {},
   "outputs": [
    {
     "name": "stdout",
     "output_type": "stream",
     "text": [
      "20.243298768997192\n"
     ]
    }
   ],
   "source": [
    "t0 = time() \n",
    "import pandas as pd\n",
    "df_pandas2 = pd.read_hdf(\"~/.radisdb/N2O-04_HITEMP2019.h5\", where=\"wav > 2000 and wav < 5000 and iso == 1\", columns=[\"iso\", \"wav\", \"int\", \"El\"])\n",
    "print(time()-t0)"
   ]
  },
  {
   "cell_type": "markdown",
   "id": "0b2b3147-3e00-4420-9be5-ab2eb6b0e5a6",
   "metadata": {},
   "source": [
    "Vaex :"
   ]
  },
  {
   "cell_type": "code",
   "execution_count": 31,
   "id": "8eb39c24-24ae-4fc6-8d9a-f318c2ecb56c",
   "metadata": {},
   "outputs": [
    {
     "name": "stdout",
     "output_type": "stream",
     "text": [
      "0.8617293834686279\n"
     ]
    }
   ],
   "source": [
    "t0 = time()\n",
    "df = vaex.open(\"~/.radisdb/N2O-04_HITEMP2019.hdf5\")\n",
    "df.select(df.wav > 2000 and df.wav < 5000 and df.iso == 1)\n",
    "df_pandas = df.to_pandas_df(selection=True, column_names=[\"iso\", \"wav\", \"int\", \"El\"])\n",
    "print(time()-t0)"
   ]
  },
  {
   "cell_type": "markdown",
   "id": "8c430fb2-a036-4d66-81c0-e124436a0e63",
   "metadata": {},
   "source": [
    "So 23x faster, on a reasonably small dataset (remember than CH4 above didn't even manage to load on my machine -_- )  !"
   ]
  },
  {
   "cell_type": "code",
   "execution_count": null,
   "id": "ae0af8c4-5466-4403-aee0-7f7d124a2e36",
   "metadata": {},
   "outputs": [],
   "source": []
  },
  {
   "cell_type": "markdown",
   "id": "ddcc5ed3-cd1b-4478-9430-a3c0ac781794",
   "metadata": {},
   "source": [
    "## Things to explore\n",
    "\n",
    "Binby concept ? https://vaex.readthedocs.io/en/docs/tutorial.html#Statistics-on-N-d-grids\n",
    "\n",
    "\n",
    "Build N-dimensional grid   https://vaex.readthedocs.io/en/docs/tutorial_jupyter.html"
   ]
  },
  {
   "cell_type": "markdown",
   "id": "4b12582e-c90d-42bf-b920-a10c03dcbbee",
   "metadata": {},
   "source": [
    "End goal for Lineshape project : how to build the Lineshape Grid the most efficiently ? This could be evaluated by looking at the HDF5 in a similar way."
   ]
  }
 ],
 "metadata": {
  "kernelspec": {
   "display_name": "Python 3",
   "language": "python",
   "name": "python3"
  },
  "language_info": {
   "codemirror_mode": {
    "name": "ipython",
    "version": 3
   },
   "file_extension": ".py",
   "mimetype": "text/x-python",
   "name": "python",
   "nbconvert_exporter": "python",
   "pygments_lexer": "ipython3",
   "version": "3.8.8"
  }
 },
 "nbformat": 4,
 "nbformat_minor": 5
}
