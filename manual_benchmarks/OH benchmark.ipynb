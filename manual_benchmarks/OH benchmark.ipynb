{
 "cells": [
  {
   "cell_type": "markdown",
   "metadata": {},
   "source": [
    "# OH full-range Benchmark \n",
    "\n",
    "Stress-test for RADIS LDM method on large ranges. \n",
    "Here we use OH at low temperature, typically only 730 lines with a default cutoff of  , on the full range 500 - 20,000 cm-1, typically 2 million spectral points with wstep=0.01 cm-1 .\n",
    "\n",
    "### Conditions : \n"
   ]
  },
  {
   "cell_type": "code",
   "execution_count": 1,
   "metadata": {},
   "outputs": [
    {
     "name": "stdout",
     "output_type": "stream",
     "text": [
      "0.9.26-0.9.23-311-g9ec20dd\n"
     ]
    }
   ],
   "source": [
    "from radis import get_version\n",
    "print(get_version())\n",
    "\n",
    "conditions = {\n",
    "    'wavenum_min':500,             # cm-1\n",
    "    'wavenum_max':10000,           # cm-1\n",
    "    'molecule':'OH',\n",
    "    'isotope':'1',\n",
    "    'pressure':1.01325,            # bar \n",
    "    'Tgas':300,\n",
    "    'mole_fraction':0.1,\n",
    "    'path_length':1,\n",
    "    'cutoff':1e-27,\n",
    "    'verbose':3,\n",
    "    }"
   ]
  },
  {
   "cell_type": "markdown",
   "metadata": {},
   "source": [
    "### With LDM (default radis>=0.9.20)"
   ]
  },
  {
   "cell_type": "code",
   "execution_count": 2,
   "metadata": {},
   "outputs": [
    {
     "name": "stdout",
     "output_type": "stream",
     "text": [
      "Using cache file: C:\\Users\\erwan\\.astropy\\cache\\astroquery\\Hitran\\tempfile_OH_1_495.00_10005.00.h5\n",
      "parse_local_quanta not implemented for molecules of HITRAN group 6\n",
      "parse_global_quanta not implemented for molecules of HITRAN class 3\n",
      "The following columns had the `object` format and were removed: ['globu', 'globl', 'locu', 'locl', 'lmix']\n",
      "\u001b[32m... Fetching molecular parameters for all transitions\u001b[0m\n",
      "\u001b[32m... Fetched molecular params in 0.00s\u001b[0m"
     ]
    },
    {
     "name": "stderr",
     "output_type": "stream",
     "text": [
      "d:\\github\\radis\\radis\\misc\\cache_files.py:415: UserWarning: Dataframe in C:\\Users\\erwan\\.astropy\\cache\\astroquery\\Hitran\\tempfile_OH_1_495.00_10005.00.h5 contains `object` format columns: ['globu', 'globl', 'locu', 'locl', 'lmix']. Operations will be slower. Try to convert them to numeric.\n",
      "  + \"Operations will be slower. Try to convert them to numeric.\"\n",
      "d:\\github\\radis\\radis\\misc\\warning.py:241: MissingSelfBroadeningWarning: Self-broadening temperature coefficient Tdpsel not given in database: used Tdpair instead\n",
      "  warnings.warn(WarningType(message))\n"
     ]
    },
    {
     "name": "stdout",
     "output_type": "stream",
     "text": [
      "\n",
      "HAPI version: 1.1.2.0\n",
      "To get the most up-to-date version please check http://hitran.org/hapi\n",
      "ATTENTION: Python versions of partition sums from TIPS-2017 are now available in HAPI code\n",
      "\n",
      "           It is free to use HAPI. If you use HAPI in your research or software development,\n",
      "           please cite it using the following reference:\n",
      "           R.V. Kochanov, I.E. Gordon, L.S. Rothman, P. Wcislo, C. Hill, J.S. Wilzewski,\n",
      "           HITRAN Application Programming Interface (HAPI): A comprehensive approach\n",
      "           to working with spectroscopic data, J. Quant. Spectrosc. Radiat. Transfer 177, 15-30 (2016)\n",
      "           DOI: 10.1016/j.jqsrt.2016.03.005\n",
      "HAPI version: 1.1.2.0\n",
      "Calculating Equilibrium Spectrum\n",
      "Physical Conditions\n",
      "----------------------------------------\n",
      "   Tgas                 300 K\n",
      "   Trot                 300 K\n",
      "   Tvib                 300 K\n",
      "   isotope              1\n",
      "   mole_fraction        0.1\n",
      "   molecule             OH\n",
      "   path_length          1 cm\n",
      "   pressure_mbar        1013.25 mbar\n",
      "   rot_distribution     boltzmann\n",
      "   self_absorption      True\n",
      "   state                X\n",
      "   vib_distribution     boltzmann\n",
      "   wavenum_max          10000.0000 cm-1\n",
      "   wavenum_min          500.0000 cm-1\n",
      "Computation Parameters\n",
      "----------------------------------------\n",
      "   Tref                 296 K\n",
      "   broadening_max_width  10 cm-1\n",
      "   broadening_method    fft\n",
      "   cutoff               1e-27 cm-1/(#.cm-2)\n",
      "   dbformat             hitran\n",
      "   dbpath               fetched from astroquery\n",
      "   dlm_log_pG           0.1375350788016573\n",
      "   dlm_log_pL           0.20180288881201608\n",
      "   include_neighbouring_lines  True\n",
      "   optimization         min-RMS\n",
      "   parfuncfmt           hapi\n",
      "   pseudo_continuum_threshold  0\n",
      "   wavenum_max_calc     10005.0000 cm-1\n",
      "   wavenum_min_calc     495.0000 cm-1\n",
      "   waveunit             cm-1\n",
      "   wstep                0.01 cm-1\n",
      "Information\n",
      "----------------------------------------\n",
      "   db_use_cached        True\n",
      "   export_lines         True\n",
      "   lvl_use_cached       True\n",
      "   parallel             False\n",
      "   warning_broadening_threshold  0.01\n",
      "   warning_linestrength_cutoff  0.01\n",
      "----------------------------------------\n",
      "\u001b[32mScaling equilibrium linestrength\u001b[0m\n",
      "\u001b[32mScaled equilibrium linestrength in 0.02s\u001b[0m\n",
      "Discarded 96.21% of lines (linestrength<1e-27cm-1/(#.cm-2)) Estimated error: 0.00%, Expected time saved: 1.9s\n",
      "\u001b[32mApplied linestrength cutoff in 0.0s (expected time saved ~ 1.9s)\u001b[0m\n",
      "\u001b[32mCalculated lineshift in 0.00s\u001b[0m\n",
      "\u001b[32mCalculated broadening HWHM in 0.00s\u001b[0m\n",
      "\u001b[32m> Calculating line broadening (730 lines: expect ~ 0.07s on 1 CPU)\u001b[0m\n",
      "\u001b[32m... Precomputed DLM lineshapes (138) in 1.7s\u001b[0m\n",
      "\u001b[32m... Initialized vectors in 0.0s\u001b[0m\n",
      "\u001b[32m... Get closest matching line & fraction in 0.0s\u001b[0m\n",
      "\u001b[32m... Distribute lines over DLM 0.0s\u001b[0m\n",
      "\u001b[32m... Convolve and sum on spectral range 24.8s\u001b[0m\n",
      "\u001b[32mCalculated line broadening in 27.03s\u001b[0m\n",
      "\u001b[32mCalculated other spectral quantities in 0.18s\u001b[0m\n",
      "\u001b[32mSpectrum calculated in 27.25s (before object generation)\u001b[0m\n",
      "\u001b[32mGenerated Spectrum object in 0.10s\u001b[0m\n",
      "Spectrum calculated in 27.36s\n"
     ]
    }
   ],
   "source": [
    "from radis import calc_spectrum\n",
    "s = calc_spectrum(**conditions,\n",
    "                  optimization='min-RMS',\n",
    "                  )\n",
    "s.name = 'LDM, min-RMS ({0:.1f}s)'.format(s.conditions['calculation_time'])"
   ]
  },
  {
   "cell_type": "markdown",
   "metadata": {},
   "source": [
    "### Without LDM (default radis<0.9.20)"
   ]
  },
  {
   "cell_type": "code",
   "execution_count": 3,
   "metadata": {},
   "outputs": [
    {
     "name": "stdout",
     "output_type": "stream",
     "text": [
      "Using cache file: C:\\Users\\erwan\\.astropy\\cache\\astroquery\\Hitran\\tempfile_OH_1_495.00_10005.00.h5\n",
      "parse_local_quanta not implemented for molecules of HITRAN group 6\n",
      "parse_global_quanta not implemented for molecules of HITRAN class 3\n",
      "The following columns had the `object` format and were removed: ['globu', 'globl', 'locu', 'locl', 'lmix']\n",
      "\u001b[32m... Fetching molecular parameters for all transitions\u001b[0m\n",
      "\u001b[32m... Fetched molecular params in 0.00s\u001b[0m\n",
      "HAPI version: 1.1.2.0\n",
      "Calculating Equilibrium Spectrum\n",
      "Physical Conditions\n",
      "----------------------------------------\n",
      "   Tgas                 300 K\n",
      "   Trot                 300 K\n",
      "   Tvib                 300 K\n",
      "   isotope              1\n",
      "   mole_fraction        0.1\n",
      "   molecule             OH\n",
      "   path_length          1 cm\n",
      "   pressure_mbar        1013.25 mbar\n",
      "   rot_distribution     boltzmann\n",
      "   self_absorption      True\n",
      "   state                X\n",
      "   vib_distribution     boltzmann\n",
      "   wavenum_max          10000.0000 cm-1\n",
      "   wavenum_min          500.0000 cm-1\n",
      "Computation Parameters\n",
      "----------------------------------------\n",
      "   Tref                 296 K\n",
      "   broadening_max_width  10 cm-1\n",
      "   broadening_method    voigt\n",
      "   cutoff               1e-27 cm-1/(#.cm-2)\n",
      "   dbformat             hitran\n",
      "   dbpath               fetched from astroquery\n",
      "   dlm_log_pG           0.1375350788016573\n",
      "   dlm_log_pL           0.20180288881201608\n",
      "   include_neighbouring_lines  True\n",
      "   parfuncfmt           hapi\n",
      "   pseudo_continuum_threshold  0\n",
      "   wavenum_max_calc     10005.0000 cm-1\n",
      "   wavenum_min_calc     495.0000 cm-1\n",
      "   waveunit             cm-1\n",
      "   wstep                0.01 cm-1\n",
      "Information\n",
      "----------------------------------------\n",
      "   db_use_cached        True\n",
      "   export_lines         True\n",
      "   lvl_use_cached       True\n",
      "   parallel             False\n",
      "   warning_broadening_threshold  0.01\n",
      "   warning_linestrength_cutoff  0.01\n",
      "----------------------------------------\n",
      "\u001b[32mScaling equilibrium linestrength\u001b[0m\n",
      "\u001b[32mScaled equilibrium linestrength in 0.01s\u001b[0m\n",
      "Discarded 96.21% of lines (linestrength<1e-27cm-1/(#.cm-2)) Estimated error: 0.00%, Expected time saved: 1.9s\n",
      "\u001b[32mApplied linestrength cutoff in 0.0s (expected time saved ~ 1.9s)\u001b[0m\n",
      "\u001b[32mCalculated lineshift in 0.00s\u001b[0m\n",
      "\u001b[32mCalculated broadening HWHM in 0.01s\u001b[0m\n",
      "\u001b[32m> Calculating line broadening (730 lines: expect ~ 0.07s on 1 CPU)\u001b[0m\n"
     ]
    },
    {
     "name": "stderr",
     "output_type": "stream",
     "text": [
      "d:\\github\\radis\\radis\\misc\\cache_files.py:415: UserWarning: Dataframe in C:\\Users\\erwan\\.astropy\\cache\\astroquery\\Hitran\\tempfile_OH_1_495.00_10005.00.h5 contains `object` format columns: ['globu', 'globl', 'locu', 'locl', 'lmix']. Operations will be slower. Try to convert them to numeric.\n",
      "  + \"Operations will be slower. Try to convert them to numeric.\"\n",
      "d:\\github\\radis\\radis\\misc\\warning.py:241: MissingSelfBroadeningWarning: Self-broadening temperature coefficient Tdpsel not given in database: used Tdpair instead\n",
      "  warnings.warn(WarningType(message))\n"
     ]
    },
    {
     "name": "stdout",
     "output_type": "stream",
     "text": [
      "\u001b[32m... Initialized vectors in 0.0s\u001b[0m\n",
      "\u001b[32m... Calculated Voigt profile (jit=True) in 0.1s\u001b[0m\n",
      "\u001b[32m... Initialized vectors in 0.0s\u001b[0m\n",
      "\u001b[32m... Get closest matching line & fraction in 0.0s\u001b[0m\n",
      "\u001b[32m... Aggregate center lines in 0.0s\u001b[0m\n",
      "\u001b[32m... Aggregate wing lines in 0.0s\u001b[0m\n",
      "\u001b[32mCalculated line broadening in 0.15s\u001b[0m\n",
      "\u001b[32mCalculated other spectral quantities in 0.15s\u001b[0m\n",
      "\u001b[32mSpectrum calculated in 0.34s (before object generation)\u001b[0m\n",
      "\u001b[32mGenerated Spectrum object in 0.09s\u001b[0m\n",
      "Spectrum calculated in 0.43s\n"
     ]
    }
   ],
   "source": [
    "from radis import calc_spectrum\n",
    "s2 = calc_spectrum(**conditions,\n",
    "                   optimization=None,\n",
    "                  )\n",
    "s2.name = 'no LDM ({0:.1f}s)'.format(s2.conditions['calculation_time'])"
   ]
  },
  {
   "cell_type": "markdown",
   "metadata": {},
   "source": [
    "# Compare"
   ]
  },
  {
   "cell_type": "code",
   "execution_count": 4,
   "metadata": {},
   "outputs": [
    {
     "data": {
      "image/png": "[encoded data removed]",
      "text/plain": [
       "<Figure size 640x480 with 2 Axes>"
      ]
     },
     "metadata": {},
     "output_type": "display_data"
    },
    {
     "data": {
      "text/plain": [
       "(<Figure size 640x480 with 2 Axes>,\n",
       " [<matplotlib.axes._subplots.AxesSubplot at 0x1adae7c67f0>,\n",
       "  <matplotlib.axes._subplots.AxesSubplot at 0x1adb6b884a8>])"
      ]
     },
     "execution_count": 4,
     "metadata": {},
     "output_type": "execute_result"
    }
   ],
   "source": [
    "from radis import plot_diff\n",
    "plot_diff(s, s2, 'abscoeff', title='{0} ({1} lines)'.format(s.conditions['molecule'],\n",
    "                                                                      s.conditions['lines_calculated']))"
   ]
  },
  {
   "cell_type": "code",
   "execution_count": null,
   "metadata": {},
   "outputs": [],
   "source": []
  }
 ],
 "metadata": {
  "kernelspec": {
   "display_name": "Python 3",
   "language": "python",
   "name": "python3"
  },
  "language_info": {
   "codemirror_mode": {
    "name": "ipython",
    "version": 3
   },
   "file_extension": ".py",
   "mimetype": "text/x-python",
   "name": "python",
   "nbconvert_exporter": "python",
   "pygments_lexer": "ipython3",
   "version": "3.6.10"
  }
 },
 "nbformat": 4,
 "nbformat_minor": 4
}
