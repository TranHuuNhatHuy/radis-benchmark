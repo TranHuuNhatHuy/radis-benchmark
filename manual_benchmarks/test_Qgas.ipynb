{
  "nbformat": 4,
  "nbformat_minor": 0,
  "metadata": {
    "kernelspec": {
      "display_name": "Python 3",
      "language": "python",
      "name": "python3"
    },
    "language_info": {
      "codemirror_mode": {
        "name": "ipython",
        "version": 3
      },
      "file_extension": ".py",
      "mimetype": "text/x-python",
      "name": "python",
      "nbconvert_exporter": "python",
      "pygments_lexer": "ipython3",
      "version": "3.8.8"
    },
    "colab": {
      "name": "test_Qgas.ipynb",
      "provenance": []
    }
  },
  "cells": [
    {
      "cell_type": "markdown",
      "metadata": {
        "id": "RKYt34MsaPF2"
      },
      "source": [
        "### Import Stuff"
      ]
    },
    {
      "cell_type": "code",
      "metadata": {
        "id": "JD85_N03aPF5",
        "colab": {
          "base_uri": "https://localhost:8080/"
        },
        "outputId": "87c9e1e2-de67-4e89-b496-7a1678578542"
      },
      "source": [
        "!pip install radis\n",
        "!pip install memory_profiler\n",
        "\n",
        "from radis.db.classes import get_molecule_identifier\n",
        "from radis.levels.partfunc import PartFuncHAPI\n",
        "\n",
        "from radis.io.hitemp import fetch_hitemp\n",
        "from radis.db.classes import get_molecule\n",
        "from radis.phys.constants import hc_k\n",
        "\n",
        "import numpy as np\n",
        "from numpy import exp, pi\n",
        "\n",
        "%load_ext memory_profiler"
      ],
      "execution_count": null,
      "outputs": [
        {
          "output_type": "stream",
          "text": [
            "Requirement already satisfied: radis in /usr/local/lib/python3.7/dist-packages (0.9.29)\n",
            "Requirement already satisfied: hitran-api in /usr/local/lib/python3.7/dist-packages (from radis) (1.1.2.0)\n",
            "Requirement already satisfied: publib>=0.3.2 in /usr/local/lib/python3.7/dist-packages (from radis) (0.3.3)\n",
            "Requirement already satisfied: json-tricks>=3.15.0 in /usr/local/lib/python3.7/dist-packages (from radis) (3.15.5)\n",
            "Requirement already satisfied: numpy in /usr/local/lib/python3.7/dist-packages (from radis) (1.19.5)\n",
            "Requirement already satisfied: numba in /usr/local/lib/python3.7/dist-packages (from radis) (0.51.2)\n",
            "Requirement already satisfied: astropy in /usr/local/lib/python3.7/dist-packages (from radis) (4.2.1)\n",
            "Requirement already satisfied: configparser in /usr/local/lib/python3.7/dist-packages (from radis) (5.0.2)\n",
            "Requirement already satisfied: mpldatacursor in /usr/local/lib/python3.7/dist-packages (from radis) (0.7.1)\n",
            "Requirement already satisfied: astroquery>=0.3.9 in /usr/local/lib/python3.7/dist-packages (from radis) (0.4.2)\n",
            "Requirement already satisfied: pytest in /usr/local/lib/python3.7/dist-packages (from radis) (3.6.4)\n",
            "Requirement already satisfied: joblib in /usr/local/lib/python3.7/dist-packages (from radis) (1.0.1)\n",
            "Requirement already satisfied: pandas>=1.0.5 in /usr/local/lib/python3.7/dist-packages (from radis) (1.1.5)\n",
            "Requirement already satisfied: tables in /usr/local/lib/python3.7/dist-packages (from radis) (3.4.4)\n",
            "Requirement already satisfied: plotly in /usr/local/lib/python3.7/dist-packages (from radis) (4.4.1)\n",
            "Requirement already satisfied: termcolor in /usr/local/lib/python3.7/dist-packages (from radis) (1.1.0)\n",
            "Requirement already satisfied: scipy in /usr/local/lib/python3.7/dist-packages (from radis) (1.4.1)\n",
            "Requirement already satisfied: matplotlib in /usr/local/lib/python3.7/dist-packages (from radis) (3.2.2)\n",
            "Requirement already satisfied: six in /usr/local/lib/python3.7/dist-packages (from publib>=0.3.2->radis) (1.15.0)\n",
            "Requirement already satisfied: setuptools in /usr/local/lib/python3.7/dist-packages (from numba->radis) (57.0.0)\n",
            "Requirement already satisfied: llvmlite<0.35,>=0.34.0.dev0 in /usr/local/lib/python3.7/dist-packages (from numba->radis) (0.34.0)\n",
            "Requirement already satisfied: pyerfa in /usr/local/lib/python3.7/dist-packages (from astropy->radis) (2.0.0)\n",
            "Requirement already satisfied: requests>=2.4.3 in /usr/local/lib/python3.7/dist-packages (from astroquery>=0.3.9->radis) (2.23.0)\n",
            "Requirement already satisfied: keyring>=4.0 in /usr/local/lib/python3.7/dist-packages (from astroquery>=0.3.9->radis) (23.0.1)\n",
            "Requirement already satisfied: html5lib>=0.999 in /usr/local/lib/python3.7/dist-packages (from astroquery>=0.3.9->radis) (1.0.1)\n",
            "Requirement already satisfied: beautifulsoup4>=4.3.2 in /usr/local/lib/python3.7/dist-packages (from astroquery>=0.3.9->radis) (4.6.3)\n",
            "Requirement already satisfied: pyvo>=1.1 in /usr/local/lib/python3.7/dist-packages (from astroquery>=0.3.9->radis) (1.1)\n",
            "Requirement already satisfied: pluggy<0.8,>=0.5 in /usr/local/lib/python3.7/dist-packages (from pytest->radis) (0.7.1)\n",
            "Requirement already satisfied: atomicwrites>=1.0 in /usr/local/lib/python3.7/dist-packages (from pytest->radis) (1.4.0)\n",
            "Requirement already satisfied: more-itertools>=4.0.0 in /usr/local/lib/python3.7/dist-packages (from pytest->radis) (8.8.0)\n",
            "Requirement already satisfied: attrs>=17.4.0 in /usr/local/lib/python3.7/dist-packages (from pytest->radis) (21.2.0)\n",
            "Requirement already satisfied: py>=1.5.0 in /usr/local/lib/python3.7/dist-packages (from pytest->radis) (1.10.0)\n",
            "Requirement already satisfied: pytz>=2017.2 in /usr/local/lib/python3.7/dist-packages (from pandas>=1.0.5->radis) (2018.9)\n",
            "Requirement already satisfied: python-dateutil>=2.7.3 in /usr/local/lib/python3.7/dist-packages (from pandas>=1.0.5->radis) (2.8.1)\n",
            "Requirement already satisfied: numexpr>=2.5.2 in /usr/local/lib/python3.7/dist-packages (from tables->radis) (2.7.3)\n",
            "Requirement already satisfied: retrying>=1.3.3 in /usr/local/lib/python3.7/dist-packages (from plotly->radis) (1.3.3)\n",
            "Requirement already satisfied: kiwisolver>=1.0.1 in /usr/local/lib/python3.7/dist-packages (from matplotlib->radis) (1.3.1)\n",
            "Requirement already satisfied: cycler>=0.10 in /usr/local/lib/python3.7/dist-packages (from matplotlib->radis) (0.10.0)\n",
            "Requirement already satisfied: pyparsing!=2.0.4,!=2.1.2,!=2.1.6,>=2.0.1 in /usr/local/lib/python3.7/dist-packages (from matplotlib->radis) (2.4.7)\n",
            "Requirement already satisfied: certifi>=2017.4.17 in /usr/local/lib/python3.7/dist-packages (from requests>=2.4.3->astroquery>=0.3.9->radis) (2021.5.30)\n",
            "Requirement already satisfied: urllib3!=1.25.0,!=1.25.1,<1.26,>=1.21.1 in /usr/local/lib/python3.7/dist-packages (from requests>=2.4.3->astroquery>=0.3.9->radis) (1.24.3)\n",
            "Requirement already satisfied: idna<3,>=2.5 in /usr/local/lib/python3.7/dist-packages (from requests>=2.4.3->astroquery>=0.3.9->radis) (2.10)\n",
            "Requirement already satisfied: chardet<4,>=3.0.2 in /usr/local/lib/python3.7/dist-packages (from requests>=2.4.3->astroquery>=0.3.9->radis) (3.0.4)\n",
            "Requirement already satisfied: jeepney>=0.4.2; sys_platform == \"linux\" in /usr/local/lib/python3.7/dist-packages (from keyring>=4.0->astroquery>=0.3.9->radis) (0.6.0)\n",
            "Requirement already satisfied: SecretStorage>=3.2; sys_platform == \"linux\" in /usr/local/lib/python3.7/dist-packages (from keyring>=4.0->astroquery>=0.3.9->radis) (3.3.1)\n",
            "Requirement already satisfied: importlib-metadata>=3.6 in /usr/local/lib/python3.7/dist-packages (from keyring>=4.0->astroquery>=0.3.9->radis) (4.5.0)\n",
            "Requirement already satisfied: webencodings in /usr/local/lib/python3.7/dist-packages (from html5lib>=0.999->astroquery>=0.3.9->radis) (0.5.1)\n",
            "Requirement already satisfied: mimeparse in /usr/local/lib/python3.7/dist-packages (from pyvo>=1.1->astroquery>=0.3.9->radis) (0.1.3)\n",
            "Requirement already satisfied: cryptography>=2.0 in /usr/local/lib/python3.7/dist-packages (from SecretStorage>=3.2; sys_platform == \"linux\"->keyring>=4.0->astroquery>=0.3.9->radis) (3.4.7)\n",
            "Requirement already satisfied: typing-extensions>=3.6.4; python_version < \"3.8\" in /usr/local/lib/python3.7/dist-packages (from importlib-metadata>=3.6->keyring>=4.0->astroquery>=0.3.9->radis) (3.7.4.3)\n",
            "Requirement already satisfied: zipp>=0.5 in /usr/local/lib/python3.7/dist-packages (from importlib-metadata>=3.6->keyring>=4.0->astroquery>=0.3.9->radis) (3.4.1)\n",
            "Requirement already satisfied: cffi>=1.12 in /usr/local/lib/python3.7/dist-packages (from cryptography>=2.0->SecretStorage>=3.2; sys_platform == \"linux\"->keyring>=4.0->astroquery>=0.3.9->radis) (1.14.5)\n",
            "Requirement already satisfied: pycparser in /usr/local/lib/python3.7/dist-packages (from cffi>=1.12->cryptography>=2.0->SecretStorage>=3.2; sys_platform == \"linux\"->keyring>=4.0->astroquery>=0.3.9->radis) (2.20)\n",
            "Requirement already satisfied: memory_profiler in /usr/local/lib/python3.7/dist-packages (0.58.0)\n",
            "Requirement already satisfied: psutil in /usr/local/lib/python3.7/dist-packages (from memory_profiler) (5.4.8)\n",
            "The memory_profiler extension is already loaded. To reload it, use:\n",
            "  %reload_ext memory_profiler\n"
          ],
          "name": "stdout"
        }
      ]
    },
    {
      "cell_type": "markdown",
      "metadata": {
        "id": "GkE4FvqfaPF9"
      },
      "source": [
        "### Function to retrieve Qgas value from partition table"
      ]
    },
    {
      "cell_type": "code",
      "metadata": {
        "id": "CUzU_fr8aPF-"
      },
      "source": [
        "def get_Qgas(molecule, iso, T):\n",
        "\n",
        "    M = get_molecule_identifier(molecule)\n",
        "\n",
        "    Q = PartFuncHAPI(M, iso)\n",
        "    return Q.at(T=T)"
      ],
      "execution_count": null,
      "outputs": []
    },
    {
      "cell_type": "markdown",
      "metadata": {
        "id": "znJSfCjzaPGA"
      },
      "source": [
        "### Old function to used to scale linestrength values "
      ]
    },
    {
      "cell_type": "code",
      "metadata": {
        "id": "nzdCcKeKaPGB"
      },
      "source": [
        "def calc_linestrength_eq(df, Tref, Tgas):\n",
        "  if len(df) == 0:\n",
        "          return\n",
        "\n",
        "    \n",
        "  print(\"Scaling equilibrium linestrength\")\n",
        "\n",
        "  # %% Load partition function values\n",
        "\n",
        "  def _calc_Q(molecule, iso, T_ref, T_gas):\n",
        "\n",
        "      Qref = get_Qgas(molecule, iso, T_ref)\n",
        "      Qgas = get_Qgas(molecule, iso, T_gas)\n",
        "\n",
        "\n",
        "      return Qref, Qgas\n",
        "\n",
        "  id_set = df.id.unique()\n",
        "  id = list(id_set)[0]\n",
        "  molecule = get_molecule(id) # retrieve the molecule\n",
        "  iso_set = set(df.iso)  # df1.iso.unique()\n",
        "\n",
        "  # when we have only one isotope Qref, Qgas are stored as attributes\n",
        "  if len(iso_set) == 1:\n",
        "      Qref, Qgas = _calc_Q(molecule, iso_set[0], T_gas, T_ref)\n",
        "      df.Qref = float(Qref) \n",
        "      df.Qgas = float(Qgas)\n",
        "      assert \"Qref\" not in df.columns\n",
        "      assert \"Qgas\" not in df.columns\n",
        "\n",
        "  # when we have more than one isotope Qref, Qgas are stored as separate columns\n",
        "  else:\n",
        "\n",
        "      iso_arr = list(range(max(iso_set) + 1))\n",
        "\n",
        "      Qref_arr = np.empty_like(iso_arr, dtype=np.float64)\n",
        "      Qgas_arr = np.empty_like(iso_arr, dtype=np.float64)\n",
        "      for iso in iso_arr:\n",
        "          if iso in iso_set:\n",
        "              Qref, Qgas = _calc_Q(molecule, iso, Tref, Tgas)\n",
        "              Qref_arr[iso] = Qref\n",
        "              Qgas_arr[iso] = Qgas\n",
        "\n",
        "      df[\"Qref\"] = Qref_arr.take(df.iso)\n",
        "      df[\"Qgas\"] = Qgas_arr.take(df.iso)\n",
        "\n",
        "  # Scaling linestrength with the equations from Rotham's paper\n",
        "  line_strength = df.int * (df.Qref / df.Qgas)\n",
        "  #line_strength = df.int * (Qref_arr.take(df.iso) / Qgas_arr.take(df.iso))\n",
        "  line_strength *= exp(-hc_k * df.El * (1 / Tgas - 1 / Tref))\n",
        "  line_strength *= (1 - exp(-hc_k * df.wav / Tgas)) / (\n",
        "      1 - exp(-hc_k * df.wav / Tref)\n",
        "  )\n",
        "  # Add a fresh columns with the scaled linestrength\n",
        "  df[\"S\"] = line_strength  # [cm-1/(molecules/cm-2)]\n",
        "\n",
        "  # Just to make sure linestrength is indeed added\n",
        "  assert \"S\" in df\n",
        "\n",
        "  return df"
      ],
      "execution_count": null,
      "outputs": []
    },
    {
      "cell_type": "markdown",
      "metadata": {
        "id": "LzhJdIvspSAb"
      },
      "source": [
        "### Scale linstrengths with the new method"
      ]
    },
    {
      "cell_type": "code",
      "metadata": {
        "id": "jEA_RYPApZPZ"
      },
      "source": [
        "def calc_linestrength_eq_optimised(df, Tref, Tgas):\n",
        "  if len(df) == 0:\n",
        "          return\n",
        "\n",
        "  print(\"Scaling equilibrium linestrength\")\n",
        "\n",
        "  # %% Load partition function values\n",
        "\n",
        "  def _calc_Q(molecule, iso, T_ref, T_gas):\n",
        "\n",
        "      Qref = get_Qgas(molecule, iso, T_ref)\n",
        "      Qgas = get_Qgas(molecule, iso, T_gas)\n",
        "\n",
        "\n",
        "      return Qref, Qgas\n",
        "\n",
        "  id_set = df.id.unique()\n",
        "  id = list(id_set)[0]\n",
        "  molecule = get_molecule(id) # retrieve the molecule\n",
        "  iso_set = set(df.iso)  # df1.iso.unique()\n",
        "\n",
        "  Qref_Qgas_ratio = {}\n",
        "\n",
        "  # when we have only one isotope Qref, Qgas are stored as attributes\n",
        "  if len(iso_set) == 1:\n",
        "      Qref, Qgas = _calc_Q(molecule, iso_set[0], T_gas, T_ref)\n",
        "      df.S = Qref/Qgas\n",
        "      assert \"S\" in df\n",
        "\n",
        "  # when we have more than one isotope Qref, Qgas are stored as separate columns\n",
        "  else:\n",
        "\n",
        "      iso_arr = list(range(max(iso_set) + 1))\n",
        "\n",
        "      Qref_arr = np.empty_like(iso_arr, dtype=np.float64)\n",
        "      Qgas_arr = np.empty_like(iso_arr, dtype=np.float64)\n",
        "      for iso in iso_arr:\n",
        "          if iso in iso_set:\n",
        "              Qref, Qgas = _calc_Q(molecule, iso, Tref, Tgas)\n",
        "              Qref_Qgas_ratio[\"iso\"] = Qref/Qgas\n",
        "\n",
        "      #copy iso column\n",
        "      df[\"S\"] = df[\"iso\"]\n",
        "\n",
        "      #map the ratios in the dictionary to the iso column vallues \n",
        "      df[\"S\"].map(Qref_Qgas_ratio)\n",
        "\n",
        "      assert \"S\" in df\n",
        "\n",
        "  # Scaling linestrength with the equations from Rotham's paper\n",
        "  line_strength = df.int * (df[\"S\"])\n",
        "  line_strength *= exp(-hc_k * df.El * (1 / Tgas - 1 / Tref))\n",
        "  line_strength *= (1 - exp(-hc_k * df.wav / Tgas)) / (\n",
        "      1 - exp(-hc_k * df.wav / Tref)\n",
        "  )\n",
        "  # Add a fresh columns with the scaled linestrength\n",
        "  df[\"S\"] = line_strength  # [cm-1/(molecules/cm-2)]\n",
        "\n",
        "  # Just to make sure linestrength is indeed added\n",
        "  assert \"S\" in df\n",
        "\n",
        "  return df"
      ],
      "execution_count": 89,
      "outputs": []
    },
    {
      "cell_type": "markdown",
      "metadata": {
        "id": "He6qk5IDaPGD"
      },
      "source": [
        "### Fetch Hitemp\n",
        "\n",
        "I am using HITEMP-CH4 to test this, first with the old method."
      ]
    },
    {
      "cell_type": "code",
      "metadata": {
        "id": "QWVk0nAGaPGE",
        "colab": {
          "base_uri": "https://localhost:8080/"
        },
        "outputId": "e4aca910-3a80-4fc7-fc28-8dacb47a4d02"
      },
      "source": [
        "Tref = 296 # The reference temperature is constant throughout radis\n",
        "\n",
        "df0 = fetch_hitemp(molecule='CH4', databank_name='HITEMP-CH4', isotope='1, 2, 3', load_wavenum_min=2000, load_wavenum_max=3000, local_databases='~/')\n",
        "\n",
        "print(\"================Before computation=====================\")\n",
        "print(df0.head())\n",
        "\n",
        "Tgas = 300 # Any temperature of your choice at which you would like to scale linestrength\n",
        "\n",
        "%time df0 = calc_linestrength_eq(df0, Tref, Tgas)\n",
        "\n",
        "print(\"================After computation Old=====================\")\n",
        "print(df0.head())\n",
        "df0.info(verbose=False, memory_usage=\"deep\")"
      ],
      "execution_count": 90,
      "outputs": [
        {
          "output_type": "stream",
          "text": [
            "Using existing database HITEMP-CH4\n",
            "================Before computation=====================\n",
            "       id  iso         wav           int  ...          iref  lmix     gp    gpp\n",
            "87326   6    1  2000.00250  2.852000e-42  ...  715947141313          0.0    0.0\n",
            "87327   6    1  2000.00250  8.171000e-36  ...  715947141313          0.0    0.0\n",
            "87328   6    1  2000.00264  3.091000e-37  ...  705832 3 3 3        255.0  245.0\n",
            "87329   6    1  2000.00362  1.880000e-31  ...  705832 3 3 3        123.0  117.0\n",
            "87330   6    1  2000.00375  1.288000e-39  ...  705832 3 3 3         90.0   86.0\n",
            "\n",
            "[5 rows x 19 columns]\n",
            "Scaling equilibrium linestrength\n",
            "CPU times: user 485 ms, sys: 5.91 ms, total: 491 ms\n",
            "Wall time: 430 ms\n",
            "================After computation Old=====================\n",
            "       id  iso         wav  ...        Qref      Qgas             S\n",
            "87326   6    1  2000.00250  ...  590.477738  602.8155  5.820099e-42\n",
            "87327   6    1  2000.00250  ...  590.477738  602.8155  1.292129e-35\n",
            "87328   6    1  2000.00264  ...  590.477738  602.8155  4.956589e-37\n",
            "87329   6    1  2000.00362  ...  590.477738  602.8155  2.444609e-31\n",
            "87330   6    1  2000.00375  ...  590.477738  602.8155  2.261429e-39\n",
            "\n",
            "[5 rows x 22 columns]\n",
            "<class 'pandas.core.frame.DataFrame'>\n",
            "Int64Index: 2042974 entries, 87326 to 30299\n",
            "Columns: 22 entries, id to S\n",
            "dtypes: float64(13), int64(2), object(7)\n",
            "memory usage: 1.2 GB\n"
          ],
          "name": "stdout"
        }
      ]
    },
    {
      "cell_type": "markdown",
      "metadata": {
        "id": "UWx8uEdJL8tK"
      },
      "source": [
        "Then with the optimised method"
      ]
    },
    {
      "cell_type": "code",
      "metadata": {
        "colab": {
          "base_uri": "https://localhost:8080/"
        },
        "id": "AdCldcC0zkZx",
        "outputId": "166ebc77-d335-456d-efe1-6ccba86266c3"
      },
      "source": [
        "df1 = fetch_hitemp(molecule='CH4', databank_name='HITEMP-CH4', isotope='1, 2, 3', load_wavenum_min=2000, load_wavenum_max=3000, local_databases='~/')\n",
        "\n",
        "%time df1 = calc_linestrength_eq_optimised(df1, Tref, Tgas)\n",
        "\n",
        "print(\"================After computation Optimised (?)=====================\")\n",
        "print(df1.head())\n",
        "df1.info(verbose=False, memory_usage=\"deep\")"
      ],
      "execution_count": 91,
      "outputs": [
        {
          "output_type": "stream",
          "text": [
            "Using existing database HITEMP-CH4\n",
            "Scaling equilibrium linestrength\n",
            "CPU times: user 568 ms, sys: 5 ms, total: 573 ms\n",
            "Wall time: 529 ms\n",
            "================After computation Optimised (?)=====================\n",
            "       id  iso         wav           int  ...  lmix     gp    gpp             S\n",
            "87326   6    1  2000.00250  2.852000e-42  ...          0.0    0.0  5.941707e-42\n",
            "87327   6    1  2000.00250  8.171000e-36  ...          0.0    0.0  1.319127e-35\n",
            "87328   6    1  2000.00264  3.091000e-37  ...        255.0  245.0  5.060155e-37\n",
            "87329   6    1  2000.00362  1.880000e-31  ...        123.0  117.0  2.495688e-31\n",
            "87330   6    1  2000.00375  1.288000e-39  ...         90.0   86.0  2.308681e-39\n",
            "\n",
            "[5 rows x 20 columns]\n",
            "<class 'pandas.core.frame.DataFrame'>\n",
            "Int64Index: 2042974 entries, 87326 to 30299\n",
            "Columns: 20 entries, id to S\n",
            "dtypes: float64(11), int64(2), object(7)\n",
            "memory usage: 1.1 GB\n"
          ],
          "name": "stdout"
        }
      ]
    },
    {
      "cell_type": "code",
      "metadata": {
        "id": "qxR-inOS3aFj"
      },
      "source": [
        "assert np.allclose(df0.S, df1.S, atol=1e-20)"
      ],
      "execution_count": null,
      "outputs": []
    }
  ]
}