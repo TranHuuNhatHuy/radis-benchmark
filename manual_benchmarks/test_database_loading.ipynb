{
 "cells": [
  {
   "cell_type": "markdown",
   "metadata": {},
   "source": [
    "# Benchmark for Database Loading\n",
    "\n",
    "Sample : HITEMP H$_2$O `01_1000-1150_HITEMP2010` (4.9 billion lines, 700 MB .h5 cache file)\n",
    "\n",
    "### Tests\n",
    "\n",
    "1. [#HDF5-is-must-faster-than-SQL-databases](#HDF5-is-must-faster-than-SQL-databases)\n",
    "2. [#Improving-HDF5-performances](#Improving-HDF5-performances)\n",
    "   - [#Trying-different-compression](#Trying-different-compression)\n",
    "   - [#Test-reading-fewer-columns](#Test-reading-fewer-columns)\n",
    "   - [#Adjusting-dtypes-and-precision](#Adjusting-dtypes-and-precision)\n",
    "\n",
    "\n",
    "### Helpful references\n",
    "\n",
    "- https://stackoverflow.com/questions/16628329/hdf5-concurrency-compression-i-o-performance\n",
    "- https://www.dataquest.io/blog/python-pandas-databases/\n",
    "- https://www.researchgate.net/publication/282986584_Efficient_Management_of_Big_Datasets_Using_HDF_and_SQLite_A_Comparative_Study_Based_on_Building_Simulation_Data\n",
    "- https://colab.research.google.com/github/kastnerkyle/kastnerkyle.github.io/blob/master/posts/using-pytables-for-larger-than-ram-data-processing/using-pytables-for-larger-than-ram-data-processing.ipynb#scrollTo=GUviW4aJ54Tc\n",
    "\n",
    "\n",
    "# Initialize : "
   ]
  },
  {
   "cell_type": "code",
   "execution_count": 1,
   "metadata": {},
   "outputs": [],
   "source": [
    "import pandas as pd"
   ]
  },
  {
   "cell_type": "code",
   "execution_count": 19,
   "metadata": {},
   "outputs": [],
   "source": [
    "datafile = \"01_1000-1150_HITEMP2010\"\n",
    "df = pd.read_hdf(datafile+\".h5\")       # Assuming .H5 already created (fixed-form : RADIS default)"
   ]
  },
  {
   "cell_type": "code",
   "execution_count": 3,
   "metadata": {},
   "outputs": [
    {
     "name": "stdout",
     "output_type": "stream",
     "text": [
      "4960367 lines\n",
      "Isotopes :  [1 2 4 3]\n"
     ]
    }
   ],
   "source": [
    "print(len(df), \"lines\")\n",
    "# number of isotopes : \n",
    "print(\"Isotopes : \", df.iso.unique())"
   ]
  },
  {
   "cell_type": "code",
   "execution_count": 4,
   "metadata": {},
   "outputs": [],
   "source": [
    "import os\n",
    "if not os.path.exists(datafile+\".sql\"):\n",
    "    # Generating to the database\n",
    "    import sqlite3\n",
    "    conn = sqlite3.connect(datafile+\".sql\")\n",
    "\n",
    "    # Setting up the database\n",
    "    df.to_sql(\"HITEMP_table\", conn)\n",
    "\n",
    "    conn.close()"
   ]
  },
  {
   "cell_type": "markdown",
   "metadata": {},
   "source": [
    "# HDF5 is must faster than SQL-databases\n",
    "\n",
    "(at least the sqlite3 implementation)\n",
    "\n",
    "## Test Reading everything \n",
    "\n",
    "\n",
    "### HDF5"
   ]
  },
  {
   "cell_type": "code",
   "execution_count": 5,
   "metadata": {},
   "outputs": [
    {
     "name": "stdout",
     "output_type": "stream",
     "text": [
      "3.46 s ± 58.2 ms per loop (mean ± std. dev. of 3 runs, 1 loop each)\n"
     ]
    }
   ],
   "source": [
    "%timeit -r 3 -n 1 pd.read_hdf(datafile+\".h5\")"
   ]
  },
  {
   "cell_type": "markdown",
   "metadata": {},
   "source": [
    "### SQL"
   ]
  },
  {
   "cell_type": "code",
   "execution_count": 6,
   "metadata": {},
   "outputs": [
    {
     "name": "stdout",
     "output_type": "stream",
     "text": [
      "1min 16s ± 1.2 s per loop (mean ± std. dev. of 3 runs, 1 loop each)\n"
     ]
    }
   ],
   "source": [
    "# Connecting to the database\n",
    "import sqlite3\n",
    "conn = sqlite3.connect(datafile+\".sql\")\n",
    "%timeit -r 3 -n 1 pd.read_sql(\"select * from HITEMP_table \", conn)\n",
    "\n",
    "conn.close()"
   ]
  },
  {
   "cell_type": "code",
   "execution_count": 7,
   "metadata": {},
   "outputs": [
    {
     "data": {
      "text/html": [
       "<div>\n",
       "<style scoped>\n",
       "    .dataframe tbody tr th:only-of-type {\n",
       "        vertical-align: middle;\n",
       "    }\n",
       "\n",
       "    .dataframe tbody tr th {\n",
       "        vertical-align: top;\n",
       "    }\n",
       "\n",
       "    .dataframe thead th {\n",
       "        text-align: right;\n",
       "    }\n",
       "</style>\n",
       "<table border=\"1\" class=\"dataframe\">\n",
       "  <thead>\n",
       "    <tr style=\"text-align: right;\">\n",
       "      <th></th>\n",
       "      <th>id</th>\n",
       "      <th>iso</th>\n",
       "      <th>wav</th>\n",
       "      <th>int</th>\n",
       "      <th>A</th>\n",
       "      <th>airbrd</th>\n",
       "      <th>selbrd</th>\n",
       "      <th>El</th>\n",
       "      <th>Tdpair</th>\n",
       "      <th>Pshft</th>\n",
       "      <th>...</th>\n",
       "      <th>Kcu</th>\n",
       "      <th>jl</th>\n",
       "      <th>Kal</th>\n",
       "      <th>Kcl</th>\n",
       "      <th>v1u</th>\n",
       "      <th>v2u</th>\n",
       "      <th>v3u</th>\n",
       "      <th>v1l</th>\n",
       "      <th>v2l</th>\n",
       "      <th>v3l</th>\n",
       "    </tr>\n",
       "  </thead>\n",
       "  <tbody>\n",
       "    <tr>\n",
       "      <th>0</th>\n",
       "      <td>1</td>\n",
       "      <td>1</td>\n",
       "      <td>1000.0001</td>\n",
       "      <td>7.598000e-75</td>\n",
       "      <td>0.016460</td>\n",
       "      <td>0.0560</td>\n",
       "      <td>0.315</td>\n",
       "      <td>25339.8633</td>\n",
       "      <td>0.49</td>\n",
       "      <td>0.0</td>\n",
       "      <td>...</td>\n",
       "      <td>-1</td>\n",
       "      <td>9</td>\n",
       "      <td>-2</td>\n",
       "      <td>-2</td>\n",
       "      <td>-2</td>\n",
       "      <td>-2</td>\n",
       "      <td>-2</td>\n",
       "      <td>-2</td>\n",
       "      <td>-2</td>\n",
       "      <td>-2</td>\n",
       "    </tr>\n",
       "    <tr>\n",
       "      <th>1</th>\n",
       "      <td>1</td>\n",
       "      <td>1</td>\n",
       "      <td>1000.0001</td>\n",
       "      <td>7.260000e-79</td>\n",
       "      <td>0.918300</td>\n",
       "      <td>0.0075</td>\n",
       "      <td>0.150</td>\n",
       "      <td>28248.8438</td>\n",
       "      <td>0.41</td>\n",
       "      <td>0.0</td>\n",
       "      <td>...</td>\n",
       "      <td>-1</td>\n",
       "      <td>21</td>\n",
       "      <td>-2</td>\n",
       "      <td>-2</td>\n",
       "      <td>-2</td>\n",
       "      <td>-2</td>\n",
       "      <td>-2</td>\n",
       "      <td>-2</td>\n",
       "      <td>-2</td>\n",
       "      <td>-2</td>\n",
       "    </tr>\n",
       "    <tr>\n",
       "      <th>2</th>\n",
       "      <td>1</td>\n",
       "      <td>1</td>\n",
       "      <td>1000.0001</td>\n",
       "      <td>1.642000e-68</td>\n",
       "      <td>0.177000</td>\n",
       "      <td>0.0075</td>\n",
       "      <td>0.131</td>\n",
       "      <td>23005.1113</td>\n",
       "      <td>0.41</td>\n",
       "      <td>0.0</td>\n",
       "      <td>...</td>\n",
       "      <td>-2</td>\n",
       "      <td>23</td>\n",
       "      <td>-1</td>\n",
       "      <td>-1</td>\n",
       "      <td>-2</td>\n",
       "      <td>-2</td>\n",
       "      <td>-2</td>\n",
       "      <td>-2</td>\n",
       "      <td>-2</td>\n",
       "      <td>-2</td>\n",
       "    </tr>\n",
       "    <tr>\n",
       "      <th>3</th>\n",
       "      <td>1</td>\n",
       "      <td>1</td>\n",
       "      <td>1000.0001</td>\n",
       "      <td>8.974000e-69</td>\n",
       "      <td>15.320000</td>\n",
       "      <td>0.0166</td>\n",
       "      <td>0.114</td>\n",
       "      <td>24080.7578</td>\n",
       "      <td>0.50</td>\n",
       "      <td>0.0</td>\n",
       "      <td>...</td>\n",
       "      <td>-2</td>\n",
       "      <td>25</td>\n",
       "      <td>-1</td>\n",
       "      <td>-1</td>\n",
       "      <td>-2</td>\n",
       "      <td>-2</td>\n",
       "      <td>-2</td>\n",
       "      <td>-2</td>\n",
       "      <td>-2</td>\n",
       "      <td>-2</td>\n",
       "    </tr>\n",
       "    <tr>\n",
       "      <th>4</th>\n",
       "      <td>1</td>\n",
       "      <td>1</td>\n",
       "      <td>1000.0001</td>\n",
       "      <td>1.380000e-77</td>\n",
       "      <td>0.040330</td>\n",
       "      <td>0.0501</td>\n",
       "      <td>0.298</td>\n",
       "      <td>27069.1562</td>\n",
       "      <td>0.45</td>\n",
       "      <td>0.0</td>\n",
       "      <td>...</td>\n",
       "      <td>-3</td>\n",
       "      <td>10</td>\n",
       "      <td>-4</td>\n",
       "      <td>-4</td>\n",
       "      <td>-2</td>\n",
       "      <td>-2</td>\n",
       "      <td>-2</td>\n",
       "      <td>-2</td>\n",
       "      <td>-2</td>\n",
       "      <td>-2</td>\n",
       "    </tr>\n",
       "    <tr>\n",
       "      <th>...</th>\n",
       "      <td>...</td>\n",
       "      <td>...</td>\n",
       "      <td>...</td>\n",
       "      <td>...</td>\n",
       "      <td>...</td>\n",
       "      <td>...</td>\n",
       "      <td>...</td>\n",
       "      <td>...</td>\n",
       "      <td>...</td>\n",
       "      <td>...</td>\n",
       "      <td>...</td>\n",
       "      <td>...</td>\n",
       "      <td>...</td>\n",
       "      <td>...</td>\n",
       "      <td>...</td>\n",
       "      <td>...</td>\n",
       "      <td>...</td>\n",
       "      <td>...</td>\n",
       "      <td>...</td>\n",
       "      <td>...</td>\n",
       "      <td>...</td>\n",
       "    </tr>\n",
       "    <tr>\n",
       "      <th>4960362</th>\n",
       "      <td>1</td>\n",
       "      <td>1</td>\n",
       "      <td>1149.9999</td>\n",
       "      <td>9.634000e-79</td>\n",
       "      <td>0.048040</td>\n",
       "      <td>0.0241</td>\n",
       "      <td>0.208</td>\n",
       "      <td>27463.1426</td>\n",
       "      <td>0.38</td>\n",
       "      <td>0.0</td>\n",
       "      <td>...</td>\n",
       "      <td>-2</td>\n",
       "      <td>16</td>\n",
       "      <td>-1</td>\n",
       "      <td>-1</td>\n",
       "      <td>-2</td>\n",
       "      <td>-2</td>\n",
       "      <td>-2</td>\n",
       "      <td>-2</td>\n",
       "      <td>-2</td>\n",
       "      <td>-2</td>\n",
       "    </tr>\n",
       "    <tr>\n",
       "      <th>4960363</th>\n",
       "      <td>1</td>\n",
       "      <td>1</td>\n",
       "      <td>1149.9999</td>\n",
       "      <td>2.623000e-78</td>\n",
       "      <td>0.009012</td>\n",
       "      <td>0.0089</td>\n",
       "      <td>0.047</td>\n",
       "      <td>27318.4102</td>\n",
       "      <td>0.50</td>\n",
       "      <td>0.0</td>\n",
       "      <td>...</td>\n",
       "      <td>-3</td>\n",
       "      <td>39</td>\n",
       "      <td>-4</td>\n",
       "      <td>-4</td>\n",
       "      <td>-2</td>\n",
       "      <td>-2</td>\n",
       "      <td>-2</td>\n",
       "      <td>-2</td>\n",
       "      <td>-2</td>\n",
       "      <td>-2</td>\n",
       "    </tr>\n",
       "    <tr>\n",
       "      <th>4960364</th>\n",
       "      <td>1</td>\n",
       "      <td>1</td>\n",
       "      <td>1149.9999</td>\n",
       "      <td>1.260000e-68</td>\n",
       "      <td>0.050910</td>\n",
       "      <td>0.0126</td>\n",
       "      <td>0.086</td>\n",
       "      <td>23028.3086</td>\n",
       "      <td>0.50</td>\n",
       "      <td>0.0</td>\n",
       "      <td>...</td>\n",
       "      <td>-4</td>\n",
       "      <td>29</td>\n",
       "      <td>-3</td>\n",
       "      <td>-3</td>\n",
       "      <td>-2</td>\n",
       "      <td>-2</td>\n",
       "      <td>-2</td>\n",
       "      <td>-2</td>\n",
       "      <td>-2</td>\n",
       "      <td>-2</td>\n",
       "    </tr>\n",
       "    <tr>\n",
       "      <th>4960365</th>\n",
       "      <td>1</td>\n",
       "      <td>1</td>\n",
       "      <td>1150.0000</td>\n",
       "      <td>2.205000e-80</td>\n",
       "      <td>0.068240</td>\n",
       "      <td>0.0075</td>\n",
       "      <td>0.131</td>\n",
       "      <td>28393.7812</td>\n",
       "      <td>0.41</td>\n",
       "      <td>0.0</td>\n",
       "      <td>...</td>\n",
       "      <td>-1</td>\n",
       "      <td>23</td>\n",
       "      <td>-2</td>\n",
       "      <td>-2</td>\n",
       "      <td>-2</td>\n",
       "      <td>-2</td>\n",
       "      <td>-2</td>\n",
       "      <td>-2</td>\n",
       "      <td>-2</td>\n",
       "      <td>-2</td>\n",
       "    </tr>\n",
       "    <tr>\n",
       "      <th>4960366</th>\n",
       "      <td>1</td>\n",
       "      <td>1</td>\n",
       "      <td>1150.0000</td>\n",
       "      <td>2.601000e-75</td>\n",
       "      <td>3.516000</td>\n",
       "      <td>0.0108</td>\n",
       "      <td>0.070</td>\n",
       "      <td>26866.5605</td>\n",
       "      <td>0.50</td>\n",
       "      <td>0.0</td>\n",
       "      <td>...</td>\n",
       "      <td>-1</td>\n",
       "      <td>32</td>\n",
       "      <td>-2</td>\n",
       "      <td>-2</td>\n",
       "      <td>-2</td>\n",
       "      <td>-2</td>\n",
       "      <td>-2</td>\n",
       "      <td>-2</td>\n",
       "      <td>-2</td>\n",
       "      <td>-2</td>\n",
       "    </tr>\n",
       "  </tbody>\n",
       "</table>\n",
       "<p>4960367 rows × 24 columns</p>\n",
       "</div>"
      ],
      "text/plain": [
       "         id  iso        wav           int          A  airbrd  selbrd  \\\n",
       "0         1    1  1000.0001  7.598000e-75   0.016460  0.0560   0.315   \n",
       "1         1    1  1000.0001  7.260000e-79   0.918300  0.0075   0.150   \n",
       "2         1    1  1000.0001  1.642000e-68   0.177000  0.0075   0.131   \n",
       "3         1    1  1000.0001  8.974000e-69  15.320000  0.0166   0.114   \n",
       "4         1    1  1000.0001  1.380000e-77   0.040330  0.0501   0.298   \n",
       "...      ..  ...        ...           ...        ...     ...     ...   \n",
       "4960362   1    1  1149.9999  9.634000e-79   0.048040  0.0241   0.208   \n",
       "4960363   1    1  1149.9999  2.623000e-78   0.009012  0.0089   0.047   \n",
       "4960364   1    1  1149.9999  1.260000e-68   0.050910  0.0126   0.086   \n",
       "4960365   1    1  1150.0000  2.205000e-80   0.068240  0.0075   0.131   \n",
       "4960366   1    1  1150.0000  2.601000e-75   3.516000  0.0108   0.070   \n",
       "\n",
       "                 El  Tdpair  Pshft  ...  Kcu  jl  Kal  Kcl  v1u  v2u  v3u  \\\n",
       "0        25339.8633    0.49    0.0  ...   -1   9   -2   -2   -2   -2   -2   \n",
       "1        28248.8438    0.41    0.0  ...   -1  21   -2   -2   -2   -2   -2   \n",
       "2        23005.1113    0.41    0.0  ...   -2  23   -1   -1   -2   -2   -2   \n",
       "3        24080.7578    0.50    0.0  ...   -2  25   -1   -1   -2   -2   -2   \n",
       "4        27069.1562    0.45    0.0  ...   -3  10   -4   -4   -2   -2   -2   \n",
       "...             ...     ...    ...  ...  ...  ..  ...  ...  ...  ...  ...   \n",
       "4960362  27463.1426    0.38    0.0  ...   -2  16   -1   -1   -2   -2   -2   \n",
       "4960363  27318.4102    0.50    0.0  ...   -3  39   -4   -4   -2   -2   -2   \n",
       "4960364  23028.3086    0.50    0.0  ...   -4  29   -3   -3   -2   -2   -2   \n",
       "4960365  28393.7812    0.41    0.0  ...   -1  23   -2   -2   -2   -2   -2   \n",
       "4960366  26866.5605    0.50    0.0  ...   -1  32   -2   -2   -2   -2   -2   \n",
       "\n",
       "         v1l  v2l  v3l  \n",
       "0         -2   -2   -2  \n",
       "1         -2   -2   -2  \n",
       "2         -2   -2   -2  \n",
       "3         -2   -2   -2  \n",
       "4         -2   -2   -2  \n",
       "...      ...  ...  ...  \n",
       "4960362   -2   -2   -2  \n",
       "4960363   -2   -2   -2  \n",
       "4960364   -2   -2   -2  \n",
       "4960365   -2   -2   -2  \n",
       "4960366   -2   -2   -2  \n",
       "\n",
       "[4960367 rows x 24 columns]"
      ]
     },
     "execution_count": 7,
     "metadata": {},
     "output_type": "execute_result"
    }
   ],
   "source": [
    "df"
   ]
  },
  {
   "cell_type": "markdown",
   "metadata": {},
   "source": [
    "## Test using SQL features (partial loading)\n",
    "\n",
    "For instance only load isotope=2"
   ]
  },
  {
   "cell_type": "code",
   "execution_count": 8,
   "metadata": {},
   "outputs": [
    {
     "data": {
      "text/plain": [
       "42"
      ]
     },
     "execution_count": 8,
     "metadata": {},
     "output_type": "execute_result"
    }
   ],
   "source": [
    "(df.iso==2).sum()"
   ]
  },
  {
   "cell_type": "code",
   "execution_count": 9,
   "metadata": {},
   "outputs": [],
   "source": [
    "# Must store in Table format (not Fixed Format)\n",
    "df.to_hdf(datafile+\"-table.h5\", key=\"HITEMP_table\", format='table', data_columns=['iso'])"
   ]
  },
  {
   "cell_type": "code",
   "execution_count": 11,
   "metadata": {},
   "outputs": [
    {
     "data": {
      "text/html": [
       "<div>\n",
       "<style scoped>\n",
       "    .dataframe tbody tr th:only-of-type {\n",
       "        vertical-align: middle;\n",
       "    }\n",
       "\n",
       "    .dataframe tbody tr th {\n",
       "        vertical-align: top;\n",
       "    }\n",
       "\n",
       "    .dataframe thead th {\n",
       "        text-align: right;\n",
       "    }\n",
       "</style>\n",
       "<table border=\"1\" class=\"dataframe\">\n",
       "  <thead>\n",
       "    <tr style=\"text-align: right;\">\n",
       "      <th></th>\n",
       "      <th>id</th>\n",
       "      <th>iso</th>\n",
       "      <th>wav</th>\n",
       "      <th>int</th>\n",
       "      <th>A</th>\n",
       "      <th>airbrd</th>\n",
       "      <th>selbrd</th>\n",
       "      <th>El</th>\n",
       "      <th>Tdpair</th>\n",
       "      <th>Pshft</th>\n",
       "      <th>...</th>\n",
       "      <th>Kcu</th>\n",
       "      <th>jl</th>\n",
       "      <th>Kal</th>\n",
       "      <th>Kcl</th>\n",
       "      <th>v1u</th>\n",
       "      <th>v2u</th>\n",
       "      <th>v3u</th>\n",
       "      <th>v1l</th>\n",
       "      <th>v2l</th>\n",
       "      <th>v3l</th>\n",
       "    </tr>\n",
       "  </thead>\n",
       "  <tbody>\n",
       "    <tr>\n",
       "      <th>0</th>\n",
       "      <td>1</td>\n",
       "      <td>1</td>\n",
       "      <td>1000.0001</td>\n",
       "      <td>7.598000e-75</td>\n",
       "      <td>0.016460</td>\n",
       "      <td>0.0560</td>\n",
       "      <td>0.315</td>\n",
       "      <td>25339.8633</td>\n",
       "      <td>0.49</td>\n",
       "      <td>0.0</td>\n",
       "      <td>...</td>\n",
       "      <td>-1</td>\n",
       "      <td>9</td>\n",
       "      <td>-2</td>\n",
       "      <td>-2</td>\n",
       "      <td>-2</td>\n",
       "      <td>-2</td>\n",
       "      <td>-2</td>\n",
       "      <td>-2</td>\n",
       "      <td>-2</td>\n",
       "      <td>-2</td>\n",
       "    </tr>\n",
       "    <tr>\n",
       "      <th>1</th>\n",
       "      <td>1</td>\n",
       "      <td>1</td>\n",
       "      <td>1000.0001</td>\n",
       "      <td>7.260000e-79</td>\n",
       "      <td>0.918300</td>\n",
       "      <td>0.0075</td>\n",
       "      <td>0.150</td>\n",
       "      <td>28248.8438</td>\n",
       "      <td>0.41</td>\n",
       "      <td>0.0</td>\n",
       "      <td>...</td>\n",
       "      <td>-1</td>\n",
       "      <td>21</td>\n",
       "      <td>-2</td>\n",
       "      <td>-2</td>\n",
       "      <td>-2</td>\n",
       "      <td>-2</td>\n",
       "      <td>-2</td>\n",
       "      <td>-2</td>\n",
       "      <td>-2</td>\n",
       "      <td>-2</td>\n",
       "    </tr>\n",
       "    <tr>\n",
       "      <th>2</th>\n",
       "      <td>1</td>\n",
       "      <td>1</td>\n",
       "      <td>1000.0001</td>\n",
       "      <td>1.642000e-68</td>\n",
       "      <td>0.177000</td>\n",
       "      <td>0.0075</td>\n",
       "      <td>0.131</td>\n",
       "      <td>23005.1113</td>\n",
       "      <td>0.41</td>\n",
       "      <td>0.0</td>\n",
       "      <td>...</td>\n",
       "      <td>-2</td>\n",
       "      <td>23</td>\n",
       "      <td>-1</td>\n",
       "      <td>-1</td>\n",
       "      <td>-2</td>\n",
       "      <td>-2</td>\n",
       "      <td>-2</td>\n",
       "      <td>-2</td>\n",
       "      <td>-2</td>\n",
       "      <td>-2</td>\n",
       "    </tr>\n",
       "    <tr>\n",
       "      <th>3</th>\n",
       "      <td>1</td>\n",
       "      <td>1</td>\n",
       "      <td>1000.0001</td>\n",
       "      <td>8.974000e-69</td>\n",
       "      <td>15.320000</td>\n",
       "      <td>0.0166</td>\n",
       "      <td>0.114</td>\n",
       "      <td>24080.7578</td>\n",
       "      <td>0.50</td>\n",
       "      <td>0.0</td>\n",
       "      <td>...</td>\n",
       "      <td>-2</td>\n",
       "      <td>25</td>\n",
       "      <td>-1</td>\n",
       "      <td>-1</td>\n",
       "      <td>-2</td>\n",
       "      <td>-2</td>\n",
       "      <td>-2</td>\n",
       "      <td>-2</td>\n",
       "      <td>-2</td>\n",
       "      <td>-2</td>\n",
       "    </tr>\n",
       "    <tr>\n",
       "      <th>4</th>\n",
       "      <td>1</td>\n",
       "      <td>1</td>\n",
       "      <td>1000.0001</td>\n",
       "      <td>1.380000e-77</td>\n",
       "      <td>0.040330</td>\n",
       "      <td>0.0501</td>\n",
       "      <td>0.298</td>\n",
       "      <td>27069.1562</td>\n",
       "      <td>0.45</td>\n",
       "      <td>0.0</td>\n",
       "      <td>...</td>\n",
       "      <td>-3</td>\n",
       "      <td>10</td>\n",
       "      <td>-4</td>\n",
       "      <td>-4</td>\n",
       "      <td>-2</td>\n",
       "      <td>-2</td>\n",
       "      <td>-2</td>\n",
       "      <td>-2</td>\n",
       "      <td>-2</td>\n",
       "      <td>-2</td>\n",
       "    </tr>\n",
       "    <tr>\n",
       "      <th>...</th>\n",
       "      <td>...</td>\n",
       "      <td>...</td>\n",
       "      <td>...</td>\n",
       "      <td>...</td>\n",
       "      <td>...</td>\n",
       "      <td>...</td>\n",
       "      <td>...</td>\n",
       "      <td>...</td>\n",
       "      <td>...</td>\n",
       "      <td>...</td>\n",
       "      <td>...</td>\n",
       "      <td>...</td>\n",
       "      <td>...</td>\n",
       "      <td>...</td>\n",
       "      <td>...</td>\n",
       "      <td>...</td>\n",
       "      <td>...</td>\n",
       "      <td>...</td>\n",
       "      <td>...</td>\n",
       "      <td>...</td>\n",
       "      <td>...</td>\n",
       "    </tr>\n",
       "    <tr>\n",
       "      <th>4960362</th>\n",
       "      <td>1</td>\n",
       "      <td>1</td>\n",
       "      <td>1149.9999</td>\n",
       "      <td>9.634000e-79</td>\n",
       "      <td>0.048040</td>\n",
       "      <td>0.0241</td>\n",
       "      <td>0.208</td>\n",
       "      <td>27463.1426</td>\n",
       "      <td>0.38</td>\n",
       "      <td>0.0</td>\n",
       "      <td>...</td>\n",
       "      <td>-2</td>\n",
       "      <td>16</td>\n",
       "      <td>-1</td>\n",
       "      <td>-1</td>\n",
       "      <td>-2</td>\n",
       "      <td>-2</td>\n",
       "      <td>-2</td>\n",
       "      <td>-2</td>\n",
       "      <td>-2</td>\n",
       "      <td>-2</td>\n",
       "    </tr>\n",
       "    <tr>\n",
       "      <th>4960363</th>\n",
       "      <td>1</td>\n",
       "      <td>1</td>\n",
       "      <td>1149.9999</td>\n",
       "      <td>2.623000e-78</td>\n",
       "      <td>0.009012</td>\n",
       "      <td>0.0089</td>\n",
       "      <td>0.047</td>\n",
       "      <td>27318.4102</td>\n",
       "      <td>0.50</td>\n",
       "      <td>0.0</td>\n",
       "      <td>...</td>\n",
       "      <td>-3</td>\n",
       "      <td>39</td>\n",
       "      <td>-4</td>\n",
       "      <td>-4</td>\n",
       "      <td>-2</td>\n",
       "      <td>-2</td>\n",
       "      <td>-2</td>\n",
       "      <td>-2</td>\n",
       "      <td>-2</td>\n",
       "      <td>-2</td>\n",
       "    </tr>\n",
       "    <tr>\n",
       "      <th>4960364</th>\n",
       "      <td>1</td>\n",
       "      <td>1</td>\n",
       "      <td>1149.9999</td>\n",
       "      <td>1.260000e-68</td>\n",
       "      <td>0.050910</td>\n",
       "      <td>0.0126</td>\n",
       "      <td>0.086</td>\n",
       "      <td>23028.3086</td>\n",
       "      <td>0.50</td>\n",
       "      <td>0.0</td>\n",
       "      <td>...</td>\n",
       "      <td>-4</td>\n",
       "      <td>29</td>\n",
       "      <td>-3</td>\n",
       "      <td>-3</td>\n",
       "      <td>-2</td>\n",
       "      <td>-2</td>\n",
       "      <td>-2</td>\n",
       "      <td>-2</td>\n",
       "      <td>-2</td>\n",
       "      <td>-2</td>\n",
       "    </tr>\n",
       "    <tr>\n",
       "      <th>4960365</th>\n",
       "      <td>1</td>\n",
       "      <td>1</td>\n",
       "      <td>1150.0000</td>\n",
       "      <td>2.205000e-80</td>\n",
       "      <td>0.068240</td>\n",
       "      <td>0.0075</td>\n",
       "      <td>0.131</td>\n",
       "      <td>28393.7812</td>\n",
       "      <td>0.41</td>\n",
       "      <td>0.0</td>\n",
       "      <td>...</td>\n",
       "      <td>-1</td>\n",
       "      <td>23</td>\n",
       "      <td>-2</td>\n",
       "      <td>-2</td>\n",
       "      <td>-2</td>\n",
       "      <td>-2</td>\n",
       "      <td>-2</td>\n",
       "      <td>-2</td>\n",
       "      <td>-2</td>\n",
       "      <td>-2</td>\n",
       "    </tr>\n",
       "    <tr>\n",
       "      <th>4960366</th>\n",
       "      <td>1</td>\n",
       "      <td>1</td>\n",
       "      <td>1150.0000</td>\n",
       "      <td>2.601000e-75</td>\n",
       "      <td>3.516000</td>\n",
       "      <td>0.0108</td>\n",
       "      <td>0.070</td>\n",
       "      <td>26866.5605</td>\n",
       "      <td>0.50</td>\n",
       "      <td>0.0</td>\n",
       "      <td>...</td>\n",
       "      <td>-1</td>\n",
       "      <td>32</td>\n",
       "      <td>-2</td>\n",
       "      <td>-2</td>\n",
       "      <td>-2</td>\n",
       "      <td>-2</td>\n",
       "      <td>-2</td>\n",
       "      <td>-2</td>\n",
       "      <td>-2</td>\n",
       "      <td>-2</td>\n",
       "    </tr>\n",
       "  </tbody>\n",
       "</table>\n",
       "<p>4960367 rows × 24 columns</p>\n",
       "</div>"
      ],
      "text/plain": [
       "         id  iso        wav           int          A  airbrd  selbrd  \\\n",
       "0         1    1  1000.0001  7.598000e-75   0.016460  0.0560   0.315   \n",
       "1         1    1  1000.0001  7.260000e-79   0.918300  0.0075   0.150   \n",
       "2         1    1  1000.0001  1.642000e-68   0.177000  0.0075   0.131   \n",
       "3         1    1  1000.0001  8.974000e-69  15.320000  0.0166   0.114   \n",
       "4         1    1  1000.0001  1.380000e-77   0.040330  0.0501   0.298   \n",
       "...      ..  ...        ...           ...        ...     ...     ...   \n",
       "4960362   1    1  1149.9999  9.634000e-79   0.048040  0.0241   0.208   \n",
       "4960363   1    1  1149.9999  2.623000e-78   0.009012  0.0089   0.047   \n",
       "4960364   1    1  1149.9999  1.260000e-68   0.050910  0.0126   0.086   \n",
       "4960365   1    1  1150.0000  2.205000e-80   0.068240  0.0075   0.131   \n",
       "4960366   1    1  1150.0000  2.601000e-75   3.516000  0.0108   0.070   \n",
       "\n",
       "                 El  Tdpair  Pshft  ...  Kcu  jl  Kal  Kcl  v1u  v2u  v3u  \\\n",
       "0        25339.8633    0.49    0.0  ...   -1   9   -2   -2   -2   -2   -2   \n",
       "1        28248.8438    0.41    0.0  ...   -1  21   -2   -2   -2   -2   -2   \n",
       "2        23005.1113    0.41    0.0  ...   -2  23   -1   -1   -2   -2   -2   \n",
       "3        24080.7578    0.50    0.0  ...   -2  25   -1   -1   -2   -2   -2   \n",
       "4        27069.1562    0.45    0.0  ...   -3  10   -4   -4   -2   -2   -2   \n",
       "...             ...     ...    ...  ...  ...  ..  ...  ...  ...  ...  ...   \n",
       "4960362  27463.1426    0.38    0.0  ...   -2  16   -1   -1   -2   -2   -2   \n",
       "4960363  27318.4102    0.50    0.0  ...   -3  39   -4   -4   -2   -2   -2   \n",
       "4960364  23028.3086    0.50    0.0  ...   -4  29   -3   -3   -2   -2   -2   \n",
       "4960365  28393.7812    0.41    0.0  ...   -1  23   -2   -2   -2   -2   -2   \n",
       "4960366  26866.5605    0.50    0.0  ...   -1  32   -2   -2   -2   -2   -2   \n",
       "\n",
       "         v1l  v2l  v3l  \n",
       "0         -2   -2   -2  \n",
       "1         -2   -2   -2  \n",
       "2         -2   -2   -2  \n",
       "3         -2   -2   -2  \n",
       "4         -2   -2   -2  \n",
       "...      ...  ...  ...  \n",
       "4960362   -2   -2   -2  \n",
       "4960363   -2   -2   -2  \n",
       "4960364   -2   -2   -2  \n",
       "4960365   -2   -2   -2  \n",
       "4960366   -2   -2   -2  \n",
       "\n",
       "[4960367 rows x 24 columns]"
      ]
     },
     "execution_count": 11,
     "metadata": {},
     "output_type": "execute_result"
    }
   ],
   "source": [
    "pd.read_hdf(datafile+\"-table.h5\", where = 'iso in [2]')\n",
    "df"
   ]
  },
  {
   "cell_type": "code",
   "execution_count": 12,
   "metadata": {},
   "outputs": [
    {
     "name": "stdout",
     "output_type": "stream",
     "text": [
      "39.2 ms ± 2.8 ms per loop (mean ± std. dev. of 3 runs, 1 loop each)\n"
     ]
    }
   ],
   "source": [
    "%timeit -r 3 -n 1 pd.read_hdf(datafile+\"-table.h5\", where ='iso in [2]')"
   ]
  },
  {
   "cell_type": "markdown",
   "metadata": {},
   "source": [
    "Now with SQL"
   ]
  },
  {
   "cell_type": "code",
   "execution_count": 13,
   "metadata": {},
   "outputs": [
    {
     "name": "stdout",
     "output_type": "stream",
     "text": [
      "1.26 s ± 9.43 ms per loop (mean ± std. dev. of 3 runs, 1 loop each)\n"
     ]
    }
   ],
   "source": [
    "# Connecting to the database\n",
    "import sqlite3\n",
    "conn = sqlite3.connect(datafile+\".sql\")\n",
    "%timeit -r 3 -n 1 pd.read_sql(\"select * from HITEMP_table where iso=2\", conn)"
   ]
  },
  {
   "cell_type": "markdown",
   "metadata": {},
   "source": [
    "## Conclusions\n",
    "\n",
    "SQLlite is very slow compared to HDF5 (both read & write is ~ 1 order of magnitude slower)\n",
    "\n",
    "\n",
    "Note:  for HDF5 to be able to use `where` similar to SQL, a table (and not fixed-form) format must be used. This ends up taking ~50% more space on disk in my case : "
   ]
  },
  {
   "cell_type": "code",
   "execution_count": 41,
   "metadata": {},
   "outputs": [
    {
     "name": "stdout",
     "output_type": "stream",
     "text": [
      "724 MB\n",
      "1034 MB\n"
     ]
    }
   ],
   "source": [
    "from os.path import getsize\n",
    "print(\"{0:.0f} MB\".format(getsize(datafile+\".h5\")*1e-6))\n",
    "print(\"{0:.0f} MB\".format(getsize(datafile+\"-table.h5\")*1e-6))"
   ]
  },
  {
   "cell_type": "markdown",
   "metadata": {},
   "source": [
    "# Improving HDF5 performances\n",
    "\n",
    "## Trying different compression\n",
    "\n",
    "References : \n",
    "- http://www.pytables.org/usersguide/optimization.html?highlight=optimization#compressionissues\n",
    "\n"
   ]
  },
  {
   "cell_type": "code",
   "execution_count": 42,
   "metadata": {},
   "outputs": [],
   "source": [
    "df.to_hdf(datafile+\"-zlib1.h5\", key=\"HITEMP_table\", format=\"table\", complib='zlib', complevel=1)\n",
    "df.to_hdf(datafile+\"-zlib9.h5\", key=\"HITEMP_table\", format=\"table\", complib='zlib', complevel=9)\n",
    "df.to_hdf(datafile+\"-blosc1.h5\", key=\"HITEMP_table\", format=\"table\", complib='blosc', complevel=1)\n",
    "df.to_hdf(datafile+\"-blosc9.h5\", key=\"HITEMP_table\", format=\"table\", complib='blosc', complevel=9)\n",
    "df.to_hdf(datafile+\"-lzo1.h5\", key=\"HITEMP_table\", format=\"table\", complib='lzo', complevel=1)\n",
    "df.to_hdf(datafile+\"-lzo9.h5\", key=\"HITEMP_table\", format=\"table\", complib='lzo', complevel=9)"
   ]
  },
  {
   "cell_type": "markdown",
   "metadata": {},
   "source": [
    "Read velocity. Conclusion: blosc almost as fast as no-compression. LZO decently fast, but Zlib is twice as slow. "
   ]
  },
  {
   "cell_type": "code",
   "execution_count": 43,
   "metadata": {},
   "outputs": [
    {
     "name": "stdout",
     "output_type": "stream",
     "text": [
      "8 s ± 190 ms per loop (mean ± std. dev. of 3 runs, 1 loop each)\n",
      "7.89 s ± 36.4 ms per loop (mean ± std. dev. of 3 runs, 1 loop each)\n",
      "4.2 s ± 173 ms per loop (mean ± std. dev. of 3 runs, 1 loop each)\n",
      "4.06 s ± 25.2 ms per loop (mean ± std. dev. of 3 runs, 1 loop each)\n",
      "5.42 s ± 17.7 ms per loop (mean ± std. dev. of 3 runs, 1 loop each)\n",
      "5.44 s ± 31.2 ms per loop (mean ± std. dev. of 3 runs, 1 loop each)\n"
     ]
    }
   ],
   "source": [
    "%timeit -r 3 -n 1 pd.read_hdf(datafile+\"-zlib1.h5\")\n",
    "%timeit -r 3 -n 1 pd.read_hdf(datafile+\"-zlib9.h5\")\n",
    "%timeit -r 3 -n 1 pd.read_hdf(datafile+\"-blosc1.h5\")\n",
    "%timeit -r 3 -n 1 pd.read_hdf(datafile+\"-blosc9.h5\")\n",
    "%timeit -r 3 -n 1 pd.read_hdf(datafile+\"-lzo1.h5\")\n",
    "%timeit -r 3 -n 1 pd.read_hdf(datafile+\"-lzo9.h5\")"
   ]
  },
  {
   "cell_type": "code",
   "execution_count": 44,
   "metadata": {},
   "outputs": [
    {
     "name": "stdout",
     "output_type": "stream",
     "text": [
      "3.47 s ± 45.8 ms per loop (mean ± std. dev. of 3 runs, 1 loop each)\n",
      "4.73 s ± 70.6 ms per loop (mean ± std. dev. of 3 runs, 1 loop each)\n"
     ]
    }
   ],
   "source": [
    "# as a reference, no compression : \n",
    "%timeit -r 3 -n 1 pd.read_hdf(datafile+\".h5\")\n",
    "%timeit -r 3 -n 1 pd.read_hdf(datafile+\"-table.h5\")"
   ]
  },
  {
   "cell_type": "markdown",
   "metadata": {},
   "source": [
    "Size of disk (and compression) : \n",
    "- Zlib achieves the best compression, LZO is 2nd and Blosc9 is about equivalent, Blosc1 is the worst. "
   ]
  },
  {
   "cell_type": "code",
   "execution_count": 46,
   "metadata": {},
   "outputs": [
    {
     "name": "stdout",
     "output_type": "stream",
     "text": [
      "Reference: 1034 MB\n",
      "zlib1 : 273 MB (74% compression)\n",
      "zlib9 : 239 MB (77% compression)\n",
      "blosc1 : 467 MB (55% compression)\n",
      "blosc9 : 325 MB (69% compression)\n",
      "lzo1 : 307 MB (70% compression)\n",
      "lzo9 : 307 MB (70% compression)\n"
     ]
    }
   ],
   "source": [
    "from os.path import getsize\n",
    "ref = getsize(datafile+\"-table.h5\")\n",
    "print(\"Reference:\", \"{0:.0f} MB\".format(ref*1e-6))\n",
    "for complib in [\"zlib1\", \"zlib9\", \"blosc1\", \"blosc9\", \"lzo1\", \"lzo9\"]:\n",
    "    print(complib,\":\",\"{0:.0f} MB ({1:.0f}% compression)\".format(getsize(datafile+\"-\"+complib+\".h5\")*1e-6, 100-getsize(datafile+\"-\"+complib+\".h5\")/ref*100))"
   ]
  },
  {
   "cell_type": "markdown",
   "metadata": {},
   "source": [
    "### Conclusion:\n",
    "\n",
    "- Blosc9 looks like a good mix. Not too much reading overhead, and good compression ! \n",
    "- Note that it's faster to read the blosc9 array than to read the non-compressed Table array (only Fixed-Form array is faster, but that's not suitable for SQL-like look-ups!)"
   ]
  },
  {
   "cell_type": "markdown",
   "metadata": {},
   "source": [
    "## Test reading fewer columns"
   ]
  },
  {
   "cell_type": "code",
   "execution_count": 47,
   "metadata": {},
   "outputs": [
    {
     "data": {
      "text/plain": [
       "Index(['id', 'iso', 'wav', 'int', 'A', 'airbrd', 'selbrd', 'El', 'Tdpair',\n",
       "       'Pshft', 'gp', 'gpp', 'ju', 'Kau', 'Kcu', 'jl', 'Kal', 'Kcl', 'v1u',\n",
       "       'v2u', 'v3u', 'v1l', 'v2l', 'v3l'],\n",
       "      dtype='object')"
      ]
     },
     "execution_count": 47,
     "metadata": {},
     "output_type": "execute_result"
    }
   ],
   "source": [
    "df.columns"
   ]
  },
  {
   "cell_type": "code",
   "execution_count": 48,
   "metadata": {},
   "outputs": [
    {
     "name": "stdout",
     "output_type": "stream",
     "text": [
      "4.7 s ± 65.4 ms per loop (mean ± std. dev. of 3 runs, 1 loop each)\n",
      "3.86 s ± 7.94 ms per loop (mean ± std. dev. of 3 runs, 1 loop each)\n"
     ]
    }
   ],
   "source": [
    "%timeit -r 3 -n 1 pd.read_hdf(datafile+\"-table.h5\")\n",
    "%timeit -r 3 -n 1 pd.read_hdf(datafile+\"-table.h5\", columns=['wav', 'int'])"
   ]
  },
  {
   "cell_type": "markdown",
   "metadata": {},
   "source": [
    "So reading fewer columns doesn't seem to improve read velocity. Of course it reduces the memory usage of the dataframe created, so it's worth considering to reduce RADIS RAM usage: "
   ]
  },
  {
   "cell_type": "code",
   "execution_count": 55,
   "metadata": {},
   "outputs": [
    {
     "name": "stdout",
     "output_type": "stream",
     "text": [
      "992 MB\n",
      "119 MB\n"
     ]
    }
   ],
   "source": [
    "dft = pd.read_hdf(datafile+\"-table.h5\")\n",
    "dft2 = pd.read_hdf(datafile+\"-table.h5\", columns=['wav', 'int'])\n",
    "import sys\n",
    "print(\"{0:.0f} MB\".format(sys.getsizeof(dft)*1e-6))\n",
    "print(\"{0:.0f} MB\".format(sys.getsizeof(dft2)*1e-6))"
   ]
  },
  {
   "cell_type": "markdown",
   "metadata": {},
   "source": [
    "### Conclusions\n",
    "\n",
    "- Does not improve velocity\n",
    "- But it does reduce instantaneous RAM usage"
   ]
  },
  {
   "cell_type": "markdown",
   "metadata": {},
   "source": [
    "## Adjusting dtypes and precision\n",
    "\n",
    "Remember that HITRAN .par files have only 5-6 significant digits."
   ]
  },
  {
   "cell_type": "code",
   "execution_count": 57,
   "metadata": {},
   "outputs": [
    {
     "data": {
      "text/plain": [
       "id          int64\n",
       "iso         int64\n",
       "wav       float64\n",
       "int       float64\n",
       "A         float64\n",
       "airbrd    float64\n",
       "selbrd    float64\n",
       "El        float64\n",
       "Tdpair    float64\n",
       "Pshft     float64\n",
       "gp        float64\n",
       "gpp       float64\n",
       "ju          int64\n",
       "Kau         int64\n",
       "Kcu         int64\n",
       "jl          int64\n",
       "Kal         int64\n",
       "Kcl         int64\n",
       "v1u         int64\n",
       "v2u         int64\n",
       "v3u         int64\n",
       "v1l         int64\n",
       "v2l         int64\n",
       "v3l         int64\n",
       "dtype: object"
      ]
     },
     "execution_count": 57,
     "metadata": {},
     "output_type": "execute_result"
    }
   ],
   "source": [
    "df.dtypes"
   ]
  },
  {
   "cell_type": "code",
   "execution_count": 59,
   "metadata": {},
   "outputs": [
    {
     "data": {
      "text/plain": [
       "0          1000.0001\n",
       "1          1000.0001\n",
       "2          1000.0001\n",
       "3          1000.0001\n",
       "4          1000.0001\n",
       "             ...    \n",
       "4960362    1149.9999\n",
       "4960363    1149.9999\n",
       "4960364    1149.9999\n",
       "4960365    1150.0000\n",
       "4960366    1150.0000\n",
       "Name: wav, Length: 4960367, dtype: float64"
      ]
     },
     "execution_count": 59,
     "metadata": {},
     "output_type": "execute_result"
    }
   ],
   "source": [
    "df.wav"
   ]
  },
  {
   "cell_type": "code",
   "execution_count": 67,
   "metadata": {},
   "outputs": [
    {
     "data": {
      "text/plain": [
       "True"
      ]
     },
     "execution_count": 67,
     "metadata": {},
     "output_type": "execute_result"
    }
   ],
   "source": [
    "df.iloc[0].wav==1000.0001"
   ]
  },
  {
   "cell_type": "markdown",
   "metadata": {},
   "source": [
    "Reducing the precision to float32 can save some tens of MBs per column ! "
   ]
  },
  {
   "cell_type": "code",
   "execution_count": 92,
   "metadata": {},
   "outputs": [
    {
     "name": "stdout",
     "output_type": "stream",
     "text": [
      "79 MB\n",
      "60 MB\n"
     ]
    }
   ],
   "source": [
    "import sys\n",
    "import numpy as np \n",
    "print(\"{0:.0f} MB\".format(sys.getsizeof(df.wav)*1e-6))\n",
    "print(\"{0:.0f} MB\".format(sys.getsizeof(df.wav.astype(np.float32))*1e-6))"
   ]
  },
  {
   "cell_type": "markdown",
   "metadata": {},
   "source": [
    "But it changes the values : "
   ]
  },
  {
   "cell_type": "code",
   "execution_count": 77,
   "metadata": {},
   "outputs": [
    {
     "data": {
      "text/plain": [
       "0          1000.000122\n",
       "1          1000.000122\n",
       "2          1000.000122\n",
       "3          1000.000122\n",
       "4          1000.000122\n",
       "              ...     \n",
       "4960362    1149.999878\n",
       "4960363    1149.999878\n",
       "4960364    1149.999878\n",
       "4960365    1150.000000\n",
       "4960366    1150.000000\n",
       "Name: wav, Length: 4960367, dtype: float32"
      ]
     },
     "execution_count": 77,
     "metadata": {},
     "output_type": "execute_result"
    }
   ],
   "source": [
    "df.wav.astype(np.float32)"
   ]
  },
  {
   "cell_type": "markdown",
   "metadata": {},
   "source": [
    "Is it still accurate given within the HITRAN significant digits ? "
   ]
  },
  {
   "cell_type": "code",
   "execution_count": 88,
   "metadata": {},
   "outputs": [
    {
     "data": {
      "text/plain": [
       "0          True\n",
       "1          True\n",
       "2          True\n",
       "3          True\n",
       "4          True\n",
       "           ... \n",
       "4960362    True\n",
       "4960363    True\n",
       "4960364    True\n",
       "4960365    True\n",
       "4960366    True\n",
       "Name: wav, Length: 4960367, dtype: bool"
      ]
     },
     "execution_count": 88,
     "metadata": {},
     "output_type": "execute_result"
    }
   ],
   "source": [
    "np.round(df.wav.astype(np.float32).astype(np.float64), decimals=4) == df.wav"
   ]
  },
  {
   "cell_type": "markdown",
   "metadata": {},
   "source": [
    "For many lines, yes. But not all :  "
   ]
  },
  {
   "cell_type": "code",
   "execution_count": 93,
   "metadata": {},
   "outputs": [
    {
     "data": {
      "text/plain": [
       "False"
      ]
     },
     "execution_count": 93,
     "metadata": {},
     "output_type": "execute_result"
    }
   ],
   "source": [
    "(np.round(df.wav.astype(np.float32).astype(np.float64), decimals=4) == df.wav).all()"
   ]
  },
  {
   "cell_type": "markdown",
   "metadata": {},
   "source": [
    "Actually only 84% of the line positions would match :"
   ]
  },
  {
   "cell_type": "code",
   "execution_count": 90,
   "metadata": {},
   "outputs": [
    {
     "data": {
      "text/plain": [
       "84.51735526826947"
      ]
     },
     "execution_count": 90,
     "metadata": {},
     "output_type": "execute_result"
    }
   ],
   "source": [
    "(np.round(df.wav.astype(np.float32).astype(np.float64), decimals=4) == df.wav).sum()/len(df.wav)*100"
   ]
  },
  {
   "cell_type": "markdown",
   "metadata": {},
   "source": [
    "### Conclusion\n",
    "\n",
    "- reducing the precision not considered at this point ! "
   ]
  },
  {
   "cell_type": "markdown",
   "metadata": {},
   "source": [
    "# TODO \n",
    "\n",
    "From the excellent [using-pytables-for-larger-than-ram-data-processing.ipynb](https://colab.research.google.com/github/kastnerkyle/kastnerkyle.github.io/blob/master/posts/using-pytables-for-larger-than-ram-data-processing/using-pytables-for-larger-than-ram-data-processing.ipynb#scrollTo=GUviW4aJ54Tc) : \n",
    "\n",
    "- [ ] use blosc9. See examples above.\n",
    "\n",
    "- [x] adjust dtypes. Remember that HITRAN .par files have only 5-6 significant digits. See .Atom for dtypes ? See [#Adjusting-dtypes-and-precision](#Adjusting-dtypes-and-precision)\n",
    "\n",
    "\n",
    "- [ ] Refactor RADIS code: only read line data as we need it. For instance, we need all energy levels to compute the populations first, but no need to read broadening coefficients before we enter the broadening step. \n",
    "  - This can be used to fetch the remaining data : https://stackoverflow.com/questions/30483754/pandas-get-specific-rows-from-hdf5-by-index\n",
    "  - Check that it's actually faster. Does data reading decrease linearly with the number of columns?  [#Test-reading-fewer-columns](#Test-reading-fewer-columns) seems to suggest that no. \n",
    "\n",
    "Add Evib/Erot on the fly... How to add columns? \n",
    "\n",
    "- [x] `df.to_hdf(mode='a')` can only be used to append rows. https://stackoverflow.com/questions/48745033/how-to-insert-edit-a-column-in-an-existing-hdf5-datasetRaises .  We'll have to re-rewrite the whole HDF5 file. Which raises a few questions for RADIS : should we edit the *original* HDF5 file and therefore fetch Evib/Erot for all the spectral range, and all isotopes ? If we don't and create a file only for runtime use, will it be re-used? (a fitting procedure with different temperatures and a cutoff would require new lines all the time). An intermediate solution would be to generate this runtime file **without cutoff**, for the waverange & molecules/isotopes considered.  \n",
    "\n",
    "Other ideas for RADIS : \n",
    "\n",
    "- [ ] Be able to generate .h5 file on-the-fly from a large .par / .bz2 file that does not fit into memory. \n",
    "\n",
    "- [ ] in Spectrum object, do not export Lines as a Pandas Dataframe but only the index of the index used in the 'original' .h5 database ? And let the Line-survey method connect the dots. "
   ]
  },
  {
   "cell_type": "code",
   "execution_count": null,
   "metadata": {},
   "outputs": [],
   "source": []
  }
 ],
 "metadata": {
  "kernelspec": {
   "display_name": "Python 3",
   "language": "python",
   "name": "python3"
  },
  "language_info": {
   "codemirror_mode": {
    "name": "ipython",
    "version": 3
   },
   "file_extension": ".py",
   "mimetype": "text/x-python",
   "name": "python",
   "nbconvert_exporter": "python",
   "pygments_lexer": "ipython3",
   "version": "3.8.5"
  }
 },
 "nbformat": 4,
 "nbformat_minor": 4
}
