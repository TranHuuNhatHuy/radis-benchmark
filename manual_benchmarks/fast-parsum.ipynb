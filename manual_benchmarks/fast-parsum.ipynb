{
 "cells": [
  {
   "cell_type": "markdown",
   "id": "e4f127f4-655a-417c-8e5f-8905ead5badb",
   "metadata": {},
   "source": [
    "# 🌱 Challenge : fast Partition Functions\n",
    "\n",
    "Goal : evaluate as fast as possible \n",
    "\n",
    "$$Z(T) = \\sum_i^N{ g_i exp\\left(-\\frac{E_i}{kT}\\right) }$$ "
   ]
  },
  {
   "cell_type": "markdown",
   "id": "fcc836ce-18e5-4e6e-9d1b-d82768d3814d",
   "metadata": {},
   "source": [
    "Where $E_i$ are not necessarily harmonic ; and $T$ can be extended to multiple temperatures.\n",
    "\n",
    "Let's generate some arbitrary data:  "
   ]
  },
  {
   "cell_type": "code",
   "execution_count": 4,
   "id": "0eb706b8-784e-4587-b51f-47417ff2a2ed",
   "metadata": {},
   "outputs": [],
   "source": [
    "import numpy as np\n",
    "import matplotlib.pyplot as plt\n",
    "from scipy.constants import h,c,k\n",
    "from time import perf_counter\n",
    "c_cm = c * 100 #cm.s-1\n",
    "\n",
    "#Make dummy energy list:\n",
    "N = 1000000\n",
    "El_arr = np.random.rand(N)**0.5*10e4 #cm-1\n",
    "El_arr.sort()  # energy levels are sorted in the energy level database\n",
    "gv_arr = np.random.randint(0,10,N)\n",
    "T_arr = np.arange(300,3000,10)\n"
   ]
  },
  {
   "cell_type": "markdown",
   "id": "e258810e-54b3-48c4-aaa5-3254ae74682c",
   "metadata": {},
   "source": [
    "## Reference case "
   ]
  },
  {
   "cell_type": "code",
   "execution_count": 16,
   "id": "76abfe9b-f242-432a-8b9e-7a034a6378d2",
   "metadata": {},
   "outputs": [],
   "source": [
    "def Q_ref(gv_arr, El_arr, T):\n",
    "    return (gv_arr*np.exp(-h*c_cm*El_arr/(k*T))).sum()"
   ]
  },
  {
   "cell_type": "code",
   "execution_count": 17,
   "id": "45f36049-3fa6-4256-a969-670a5c7a078a",
   "metadata": {},
   "outputs": [
    {
     "name": "stdout",
     "output_type": "stream",
     "text": [
      "SUM eval: 17.1007s\n"
     ]
    }
   ],
   "source": [
    "t0 = perf_counter()\n",
    "Q_sum = [Q_ref(gv_arr, El_arr, T) for T in T_arr]\n",
    "print('SUM eval: {:.4f}s'.format(perf_counter() - t0))\n"
   ]
  },
  {
   "cell_type": "markdown",
   "id": "a1a765ab-75da-43b3-ab2a-3070976d7f38",
   "metadata": {},
   "source": [
    "## QDM Case \n",
    "\n",
    "(precompute and interpolate)\n",
    "\n",
    "2 interesting ideas here : \n",
    "- first we discretize/bin and reduce the number of exponential being evaluated\n",
    "- 2nd, we can precompute parts that do not depends on the temperature. "
   ]
  },
  {
   "cell_type": "code",
   "execution_count": 7,
   "id": "d1c0d4d0-cca1-4985-ab91-6f264990e9dc",
   "metadata": {},
   "outputs": [],
   "source": [
    "\n",
    "def init_w_axis(dx, log_wi, epsilon=1e-4):\n",
    "    log_w_min = np.min(log_wi)\n",
    "    log_w_max = np.max(log_wi) + epsilon\n",
    "    N = np.ceil((log_w_max - log_w_min)/dx) + 1\n",
    "    log_w_arr = log_w_min + dx * np.arange(N)\n",
    "    return log_w_arr\n",
    "\n",
    "def get_indices(arr_i, axis):\n",
    "    pos    = np.interp(arr_i, axis, np.arange(axis.size))\n",
    "    index  = pos.astype(int)\n",
    "    return index, index + 1, pos - index\n",
    "\n",
    "def calc_distribution(log_E, Ei, gi):\n",
    "    gv0 = np.sum(gi[Ei==0.0])\n",
    "    QDM = np.zeros(log_E.size)\n",
    "    ni0, ni1, tEi = get_indices(np.log(Ei), log_E)\n",
    "    aEi = tEi\n",
    "    np.add.at(QDM, ni0, (1-aEi) * gi)\n",
    "    np.add.at(QDM, ni1, aEi * gi)\n",
    "    return gv0, QDM\n",
    "\n",
    "def calc_parsum(T, log_E, QDM, gv0):\n",
    "    Q = np.sum(QDM * np.exp(-h*c_cm*np.exp(log_E)/(k*T)))\n",
    "    Q += gv0\n",
    "    return Q\n"
   ]
  },
  {
   "cell_type": "code",
   "execution_count": 8,
   "id": "788f4fbd-ff16-4536-a491-54b8195bd574",
   "metadata": {},
   "outputs": [
    {
     "name": "stdout",
     "output_type": "stream",
     "text": [
      "QDM init: 0.5541s\n",
      "QDM eval: 0.0200s\n"
     ]
    }
   ],
   "source": [
    "t0 = perf_counter()\n",
    "dxE = 0.01\n",
    "log_E_axis = init_w_axis(dxE, np.log(El_arr))\n",
    "gv0, QDM = calc_distribution(log_E_axis, El_arr, gv_arr)\n",
    "print('QDM init: {:.4f}s'.format(perf_counter() - t0))\n",
    "\n",
    "t0 = perf_counter()\n",
    "Q_qdm = [calc_parsum(T, log_E_axis, QDM, gv0) for T in T_arr]\n",
    "print('QDM eval: {:.4f}s'.format(perf_counter() - t0))\n"
   ]
  },
  {
   "cell_type": "code",
   "execution_count": 10,
   "id": "a1c6ea31-694b-40cd-a97d-1a6814b4a5d6",
   "metadata": {},
   "outputs": [
    {
     "data": {
      "image/png": "[encoded data removed]",
      "text/plain": [
       "<Figure size 432x288 with 1 Axes>"
      ]
     },
     "metadata": {
      "needs_background": "light"
     },
     "output_type": "display_data"
    }
   ],
   "source": [
    "# Validate :\n",
    "plt.figure('QDM').clear()\n",
    "plt.plot(T_arr,Q_sum)\n",
    "plt.plot(T_arr,Q_qdm,'--')\n",
    "plt.xlabel('Temperature')\n",
    "plt.ylabel('Q')\n",
    "plt.show()\n"
   ]
  },
  {
   "cell_type": "markdown",
   "id": "3c918f82-88ed-4a31-9f9b-45417706134e",
   "metadata": {},
   "source": [
    "## Partial sums \n",
    "\n",
    "(sum only until convergence)"
   ]
  },
  {
   "cell_type": "code",
   "execution_count": 12,
   "id": "8a85eec2-705f-44e0-9406-96e9cf64c970",
   "metadata": {},
   "outputs": [],
   "source": [
    "from numpy import abs, isclose\n",
    "from numba import jit\n",
    "\n",
    "def partial_sum(a, N=100000, rtol=0.003e-2):\n",
    "    slast = 0\n",
    "    s = a[:N].sum()\n",
    "    i = N\n",
    "    while abs(slast - s)/s > rtol and i<=len(a):\n",
    "        slast = s\n",
    "        s += a[i:i+N].sum()\n",
    "        i += N\n",
    "    # print(f\"({i-N}/{len(a)} points ({(i-N)/len(a):.2%})\")\n",
    "    return s\n",
    "\n",
    "def partial_sum_func(f, a, N=100000, rtol=0.003e-2):\n",
    "    slast = 0\n",
    "    s = f(a[:N]).sum()\n",
    "    i = N\n",
    "    while abs(slast - s)/s > rtol and i<=len(a):\n",
    "        slast = s\n",
    "        s += f(a[i:i+N]).sum()\n",
    "        i += N\n",
    "    # print(f\"({i-N}/{len(a)} points ({(i-N)/len(a):.2%})\")\n",
    "    return s\n",
    "\n",
    "def partial_sum_func_nargs(f, nargs, N=100000, rtol=0.003e-2):\n",
    "    slast = 0\n",
    "    s = f(*[a[:N] for a in nargs]).sum()\n",
    "    i = N\n",
    "    while abs(slast - s)/s > rtol and i<=len(nargs[0]):\n",
    "        slast = s\n",
    "        s += f(*[a[i:i+N] for a in nargs]).sum()\n",
    "        i += N\n",
    "    # print(f\"({i-N}/{len(nargs[0])} points ({(i-N)/len(nargs[0]):.2%})\")\n",
    "    return s\n",
    "\n",
    "@jit(nopython=True)\n",
    "def partial_partition_sum_nargs(gv_arr, El_arr, T, N=100000, rtol=0.003e-2):\n",
    "    \"\"\" same as `partial_sum_func_nargs` but with explicit parameters\n",
    "    to be able to Jit it\"\"\"\n",
    "    slast = 0\n",
    "    s = (gv_arr[:N]*np.exp(-h*c_cm*El_arr[:N]/(k*T))).sum()\n",
    "    i = N\n",
    "    while abs(slast - s)/s > rtol and i<=len(gv_arr):\n",
    "        slast = s\n",
    "        s += (gv_arr[i:i+N]*np.exp(-h*c_cm*El_arr[i:i+N]/(k*T))).sum()\n",
    "        i += N\n",
    "    # print(f\"({i-N}/{len(gv_arr)} points ({(i-N)/len(gv_arr):.2%})\")\n",
    "    return s\n",
    "\n",
    "\n",
    "# Validate that partial sum formulas are right\n",
    "assert isclose(partial_sum(El_arr, rtol=0), El_arr.sum())\n",
    "assert isclose(partial_sum_func(lambda E: np.exp(-h*c_cm*E/(k*3000)), El_arr, rtol=0), np.exp(-h*c_cm*El_arr/(k*3000)).sum())\n",
    "assert isclose(partial_sum_func_nargs(lambda g, E: g*np.exp(-h*c_cm*E/(k*3000)), (gv_arr, El_arr), rtol=0), (gv_arr*np.exp(-h*c_cm*El_arr/(k*3000))).sum())\n"
   ]
  },
  {
   "cell_type": "code",
   "execution_count": 20,
   "id": "f1cef6fd-e6fc-4e29-83e2-7c683f23b95e",
   "metadata": {},
   "outputs": [
    {
     "name": "stdout",
     "output_type": "stream",
     "text": [
      "PARTSUM (sum all) eval: 4.3587s (note it may be faster than sum : just because there is no memory saturation effect!\n",
      "PARTSUM (rtol 0.100000%) eval: 6.2252s\n",
      "PARTSUMJIT (rtol 0.100000%) eval: 0.0487s\n"
     ]
    }
   ],
   "source": [
    "t0 = perf_counter()\n",
    "Q_part0 = [partial_sum_func_nargs(lambda g, E: g*np.exp(-h*c_cm*E/(k*T)), (gv_arr, El_arr), rtol=0) for T in T_arr]\n",
    "print('PARTSUM (sum all) eval: {:.4f}s'.format(perf_counter() - t0), \"(note it may be faster than sum : just because there is no memory saturation effect!\")\n",
    "rtol = 0.001 # 0.003e-2\n",
    "Q_part = [partial_sum_func_nargs(lambda g, E: g*np.exp(-h*c_cm*E/(k*T)), (gv_arr, El_arr), rtol=rtol) for T in T_arr]\n",
    "print('PARTSUM (rtol {:%}) eval: {:.4f}s'.format(rtol, perf_counter() - t0))\n",
    "\n",
    "#%%\n",
    "t0 = perf_counter()\n",
    "rtol = 0.001 # 0.003e-2\n",
    "Q_jitpart = [partial_partition_sum_nargs(gv_arr, El_arr, T, N=10000, rtol=rtol) for T in T_arr]\n",
    "print('PARTSUMJIT (rtol {:%}) eval: {:.4f}s'.format(rtol, perf_counter() - t0))\n"
   ]
  },
  {
   "cell_type": "code",
   "execution_count": 19,
   "id": "97eaca28-0893-4e5a-9968-25290fec72f0",
   "metadata": {},
   "outputs": [
    {
     "data": {
      "image/png": "[encoded data removed]",
      "text/plain": [
       "<Figure size 432x288 with 1 Axes>"
      ]
     },
     "metadata": {
      "needs_background": "light"
     },
     "output_type": "display_data"
    }
   ],
   "source": [
    "plt.figure('Parsum').clear()\n",
    "plt.plot(T_arr,Q_sum)\n",
    "plt.plot(T_arr,Q_part,'--')\n",
    "plt.xlabel('Temperature')\n",
    "plt.ylabel('Q')\n",
    "plt.show()\n"
   ]
  },
  {
   "cell_type": "markdown",
   "id": "bfff9b57-11a8-4021-9e54-47a4a91a5a32",
   "metadata": {},
   "source": [
    "## Taylor Expansion\n",
    "\n",
    "Here: First-order Taylor Expansion (linear approximatino) with the closest neighbor on a grid.\n",
    "\n",
    "$$exp(x) = exp(x_0) + (x-x_0) + O\\left(\\frac{(x-x_0)^2}{2}\\right)$$\n",
    "\n",
    "Build a grid of M elements : \n",
    "\n",
    "$$Z(T) = \\sum_b^M{ \\left( exp\\left(-\\frac{E_0}{kT}\\right) \\sum_{E_i \\in [E_b, E_{b+1}]}{} g_i \\right) + \\left( \\sum_i^N g_i \\cdot \\frac{E_i-E_0}{kT}  \\right) }$$ \n",
    "\n",
    "$$Z(T) = Z_0(T) + Z_1(T)$$\n",
    "\n",
    "Some similarities with the QDM above : \n",
    "- we reduce the number of exponentials (Z0 as one exponential per grid point ; not per level) \n",
    "- some parts can be pre-computed   (basically all of Z1 ; the only thing left at runtime is to divide by $T$ )\n",
    "\n",
    "We can control the error made ; by increasing the Taylor expansion order. \n",
    "\n",
    "However, it is no match for the interpolation of the QDM, and the accuracy is very poor for grids as coarse as the one that can be used in the QDM.  "
   ]
  },
  {
   "cell_type": "code",
   "execution_count": 44,
   "id": "66d5558f-24e9-4c01-827f-9577b8d1a01e",
   "metadata": {},
   "outputs": [
    {
     "name": "stdout",
     "output_type": "stream",
     "text": [
      "LINEAR init: 0.2944s\n",
      "LINEAR eval: 0.0230s\n"
     ]
    }
   ],
   "source": [
    "\n",
    "def init_E_grid(E, M=10000):\n",
    "    return np.linspace(E.min(), E.max()+0.01, M)\n",
    "    #return np.logspace(np.log10(E.min()), np.log10(E.max()+0.01), M)\n",
    "\n",
    "def get_indices(arr_i, axis):\n",
    "    pos    = np.interp(arr_i, axis, np.arange(axis.size))\n",
    "    index  = pos.astype(int)\n",
    "    return index, index + 1, pos - index\n",
    "\n",
    "\n",
    "t0 = perf_counter()\n",
    "\n",
    "M = 500\n",
    "Egrid = init_E_grid(El_arr, M=M)\n",
    "\n",
    "\n",
    "import pandas as pd\n",
    "from numpy import exp\n",
    "# index = np.digitize(El_arr, Egrid)\n",
    "# index = np.searchsorted(Egrid, El_arr, side='left')   # equivalent\n",
    "i0, i1, di = get_indices(El_arr, Egrid)\n",
    "closest = i0\n",
    "closest[di > 0.5 ] = i1[di > 0.5 ]\n",
    "Egrid_arr = Egrid.take(closest)\n",
    "\n",
    "# EP : a bit stupid to digitize first and groupby Egrid later. Should all be done within Vaex/Pandas.\n",
    "df = pd.DataFrame({'g':gv_arr, 'E':El_arr, 'Egrid':Egrid_arr})\n",
    "dgb = df.groupby('Egrid')\n",
    "\n",
    "# sum degeneracy on grid :\n",
    "g0 = dgb.g.sum().values\n",
    "E0 = df.Egrid.unique()\n",
    "\n",
    "\n",
    "Z0 = lambda T: (g0 * exp(-h*c_cm*E0/(k*T))).sum()\n",
    "\n",
    "# Z1 = lambda T: (gv_arr * -h*c_cm*(El_arr-Egrid_arr)/(k*T)).sum()\n",
    "Z1_precomp =(gv_arr * -h*c_cm*(El_arr-Egrid_arr)/k).sum()\n",
    "Z1 = lambda T: Z1_precomp/T\n",
    "\n",
    "print('LINEAR init: {:.4f}s'.format(perf_counter() - t0))\n",
    "\n",
    "\n",
    "t0 = perf_counter()\n",
    "Q_linear = [Z0(T) + Z1(T) for T in T_arr]\n",
    "print('LINEAR eval: {:.4f}s'.format(perf_counter() - t0))\n",
    "\n",
    "\n"
   ]
  },
  {
   "cell_type": "code",
   "execution_count": 42,
   "id": "02bab213-eb23-4f98-b287-68382a71eab5",
   "metadata": {},
   "outputs": [
    {
     "data": {
      "image/png": "[encoded data removed]",
      "text/plain": [
       "<Figure size 432x288 with 1 Axes>"
      ]
     },
     "metadata": {
      "needs_background": "light"
     },
     "output_type": "display_data"
    }
   ],
   "source": [
    "plt.figure(\"Linear\").clear()\n",
    "plt.plot(T_arr,Q_sum)\n",
    "plt.plot(T_arr,Q_linear,'--')\n",
    "plt.xlabel('Temperature')\n",
    "plt.ylabel('Q')\n",
    "plt.show()\n",
    "\n",
    "\n"
   ]
  },
  {
   "cell_type": "markdown",
   "id": "d8616b45-6863-4a29-850b-b4179d9d9496",
   "metadata": {},
   "source": [
    "## Extra\n",
    "\n",
    "I tried to play with other interpolators, like [Laguerre Polynomials](https://en.wikipedia.org/wiki/Laguerre_polynomials) which \n",
    "are used in Gauss-Laguerre quadrature problems.\n",
    "\n",
    "$$\\int_0^\\infty f(x) e^{-x} dx$$\n",
    "\n",
    "However, the $f$ function used in a Laguerre expression proves hard to evaluate in the \n",
    "partition sum context  : it would be the sum of all levels including degeneracies on a given interval ; but the interval itself depends on \n",
    "the temperature after you evaluate $x = E_i / (kT)$\n",
    "\n",
    "Also, the Laguerre coefficients, which could have been good candidates for a QDM-like evaluatino of the partition sum, still depend on the temperature and therefore prevents to precompute most of the calculation as done in the QDM and Taylor examples above. "
   ]
  },
  {
   "cell_type": "code",
   "execution_count": null,
   "id": "6ec13852-7d25-4c0d-a82c-3db404dc83a8",
   "metadata": {},
   "outputs": [],
   "source": []
  }
 ],
 "metadata": {
  "kernelspec": {
   "display_name": "Python 3",
   "language": "python",
   "name": "python3"
  },
  "language_info": {
   "codemirror_mode": {
    "name": "ipython",
    "version": 3
   },
   "file_extension": ".py",
   "mimetype": "text/x-python",
   "name": "python",
   "nbconvert_exporter": "python",
   "pygments_lexer": "ipython3",
   "version": "3.8.8"
  }
 },
 "nbformat": 4,
 "nbformat_minor": 5
}
